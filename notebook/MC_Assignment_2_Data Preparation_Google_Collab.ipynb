{
 "cells": [
  {
   "cell_type": "markdown",
   "metadata": {
    "colab_type": "text",
    "id": "XcrCgBnukjvm"
   },
   "source": [
    "# Import Statements\n",
    "\n",
    "---\n",
    "\n"
   ]
  },
  {
   "cell_type": "code",
   "execution_count": 0,
   "metadata": {
    "colab": {},
    "colab_type": "code",
    "id": "kTW8rxoOGMO-"
   },
   "outputs": [],
   "source": [
    "# Data Manipulator Imports\n",
    "import pandas as pd\n",
    "\n",
    "# Data Retrieval Imports\n",
    "from google.colab import files\n",
    "!pip install -U -q PyDrive\n",
    "from pydrive.auth import GoogleAuth\n",
    "from pydrive.drive import GoogleDrive\n",
    "from google.colab import auth\n",
    "from oauth2client.client import GoogleCredentials\n",
    "\n",
    "# Normal Imports\n",
    "import json\n",
    "import os\n",
    "import numpy as np\n",
    "import pickle"
   ]
  },
  {
   "cell_type": "markdown",
   "metadata": {
    "colab_type": "text",
    "id": "SbrK2lukkrXN"
   },
   "source": [
    "# Import Data from Google Drive\n",
    "\n",
    "---\n",
    "\n"
   ]
  },
  {
   "cell_type": "code",
   "execution_count": 0,
   "metadata": {
    "colab": {},
    "colab_type": "code",
    "id": "7lnHtZUiSnkV"
   },
   "outputs": [],
   "source": [
    "# Authenticate and create the PyDrive client.\n",
    "auth.authenticate_user()\n",
    "gauth = GoogleAuth()\n",
    "gauth.credentials = GoogleCredentials.get_application_default()\n",
    "drive = GoogleDrive(gauth)"
   ]
  },
  {
   "cell_type": "markdown",
   "metadata": {
    "colab_type": "text",
    "id": "2D-9raQ4vnA8"
   },
   "source": [
    "## Don't need to run the following cell\n",
    "\n",
    "\n",
    "---\n",
    "Only run if data is already pickled!\n"
   ]
  },
  {
   "cell_type": "code",
   "execution_count": 0,
   "metadata": {
    "colab": {},
    "colab_type": "code",
    "id": "educ1bAosWRu"
   },
   "outputs": [],
   "source": [
    "# Run this if already pickled \n",
    "# Else don't run this block\n",
    "# Bring Data in memory from Google Drive (CSV folder)\n",
    "\n",
    "# Google Drive Link for Data (Professor given files, Pickled Files)\n",
    "sharelink = \"https://drive.google.com/open?id=1i-tyYUp4Ivzws-4tPtyMkdbTAVm2i2he\"\n",
    "fluff, gid = sharelink.split('=')\n",
    "\n",
    "# Getting list of all files in the folder\n",
    "file_list = drive.ListFile(\n",
    "    {'q': \"'{}' in parents\".format(gid)}).GetList()\n",
    "\n",
    "# Getting ID's of the Pickled files\n",
    "xfileid = ''\n",
    "yfileid = ''\n",
    "for f in file_list:\n",
    "  if(f['title']=='Xfileupdated'):\n",
    "    xfileid = f['id']\n",
    "  elif(f['title']=='Yfileupdated'):\n",
    "    yfileid = f['id']\n",
    "\n",
    "# Creating a local download path for Google Collab\n",
    "local_download_path = os.path.expanduser('~/data')\n",
    "try: os.makedirs(local_download_path)\n",
    "except: pass\n",
    "\n",
    "# Retrieving X_all data\n",
    "fname = os.path.join(local_download_path, 'Xfileupdated')\n",
    "downloaded = drive.CreateFile({'id':xfileid})\n",
    "downloaded.GetContentFile(fname)\n",
    "X_all = pickle.load(open(fname, 'rb'))\n",
    "\n",
    "# Retrieving Y_all data\n",
    "fname = os.path.join(local_download_path, 'Yfileupdated')\n",
    "downloaded = drive.CreateFile({'id':yfileid})\n",
    "downloaded.GetContentFile(fname)\n",
    "Y_all = pickle.load(open(fname, 'rb'))"
   ]
  },
  {
   "cell_type": "markdown",
   "metadata": {
    "colab_type": "text",
    "id": "L1N5-ijZtNp-"
   },
   "source": [
    "## Crunching the data\n",
    "\n",
    "---\n",
    "\n"
   ]
  },
  {
   "cell_type": "code",
   "execution_count": 3,
   "metadata": {
    "colab": {
     "base_uri": "https://localhost:8080/",
     "height": 54
    },
    "colab_type": "code",
    "id": "DEf8ybc8T1KP",
    "outputId": "5c2bdfbd-e34b-46d5-e206-9d7da823e7af"
   },
   "outputs": [
    {
     "name": "stdout",
     "output_type": "stream",
     "text": [
      "3 4 5 6 7 8 9 10 11 12 13 14 15 16 17 18 19 20 21 22 23 24 25 26 27 28 29 30 31 32 33 34 35 36 37 38 39 40 41 42 43 44 45 46 47 48 49 50 51 52 53 54 55 56 57 58 59 60 61 62 63 64 65 66 67 68 69 70 71 72 73 74 75 76 77 78 79 80 81 82 83 84 85 86 87 88 89 90 91 92 93 94 95 96 97 98 99 100 101 102 103 104 105 106 107 108 109 110 111 112 113 114 115 116 117 118 119 120 121 122 123 124 125 126 127 128 129 130 131 132 133 134 135 136 137 138 139 140 141 142 143 144 145 146 147 148 149 150 151 152 153 154 155 156 157 158 159 160 161 162 163 164 165 166 167 168 169 170 171 172 173 174 175 176 177 178 179 180 181 182 183 184 185 186 187 188 189 190 191 192 193 194 195 196 197 198 199 200 201 202 203 204 205 206 207 208 209 210 211 212 213 214 215 216 217 218 219 220 221 222 223 224 225 226 227 228 229 230 231 232 233 234 235 236 237 238 239 240 241 242 243 244 245 246 247 248 249 250 251 252 253 254 255 256 257 258 259 260 261 262 263 264 265 266 267 268 269 270 271 272 273 274 275 276 277 278 279 280 281 282 283 284 285 286 287 288 289 290 291 292 293 294 295 296 297 298 299 300 301 302 303 304 305 306 307 308 309 310 311 312 313 314 315 316 317 318 319 320 321 322 323 324 325 326 327 328 329 330 331 332 333 334 335 336 337 338 339 340 341 342 343 344 345 346 347 348 349 350 351 352 353 354 355 356 357 358 359 360 361 362 363 364 365 366 367 368 369 370 371 372 373 374 375 376 377 378 379 380 381 382 383 384 385 386 387 388 389 390 391 392 393 394 395 396 397 398 399 400 401 402 403 404 405 406 407 408 409 410 411 412 413 414 415 416 417 "
     ]
    }
   ],
   "source": [
    "# Bring Data in memory from Google Drive (CSV folder)\n",
    "# Google Drive Link for Data (Professor given files, Pickled Files)\n",
    "sharelink = \"https://drive.google.com/open?id=1i-tyYUp4Ivzws-4tPtyMkdbTAVm2i2he\"\n",
    "fluff, gid = sharelink.split('=')\n",
    "\n",
    "# Getting list of all files in the folder\n",
    "file_list = drive.ListFile(\n",
    "    {'q': \"'{}' in parents\".format(gid)}).GetList()\n",
    "\n",
    "# Creating local path for Google Collab\n",
    "local_download_path = os.path.expanduser('~/data')\n",
    "try:\n",
    "  os.makedirs(local_download_path)\n",
    "except: pass\n",
    "\n",
    "# Getting all the files uploaded by the professor\n",
    "dfs = []\n",
    "signs = []\n",
    "c = 0\n",
    "for f in file_list:\n",
    "  c += 1\n",
    "  try:\n",
    "    fname = os.path.join(local_download_path, f['title'])\n",
    "    downloaded = drive.CreateFile({'id':f['id']})\n",
    "    downloaded.GetContentFile(fname)\n",
    "\n",
    "    # Converting into Dataframes\n",
    "    df = pd.read_csv(fname)[[\"leftShoulder_x\", \"leftShoulder_y\", \"rightShoulder_x\", \"rightShoulder_y\", \"leftElbow_x\", \"leftElbow_y\", \"rightElbow_x\", \"rightElbow_y\", \"leftWrist_x\", \"leftWrist_y\", \"rightWrist_x\", \"rightWrist_y\"]]\n",
    "\n",
    "    # Creating master list of Dataframes\n",
    "    dfs.append(df)\n",
    "\n",
    "    # Sign from filename\n",
    "    signs.append(f['title'].split('_')[0].lower())\n",
    "\n",
    "    # Helper counter for progress\n",
    "    print(c, end=' ')\n",
    "  except:\n",
    "    pass"
   ]
  },
  {
   "cell_type": "code",
   "execution_count": 8,
   "metadata": {
    "colab": {
     "base_uri": "https://localhost:8080/",
     "height": 34
    },
    "colab_type": "code",
    "id": "dyAm3GCEppdj",
    "outputId": "02401d7f-59d2-4084-bf86-2530d44ebb40"
   },
   "outputs": [
    {
     "name": "stdout",
     "output_type": "stream",
     "text": [
      "minimum-232 & maximum-232 number of rows in a CSV input file.\n"
     ]
    }
   ],
   "source": [
    "print(\"minimum-{} & maximum-{} number of rows in a CSV input file.\".format(min([len(i) for i in dfs]),max([len(i) for i in dfs])))"
   ]
  },
  {
   "cell_type": "markdown",
   "metadata": {
    "colab_type": "text",
    "id": "piz0cNNlkyRs"
   },
   "source": [
    "# Regularizing the Data"
   ]
  },
  {
   "cell_type": "markdown",
   "metadata": {
    "colab_type": "text",
    "id": "iv8fzcYww43e"
   },
   "source": [
    "## Approach 1 [Not Followed]\n",
    "\n",
    "---\n",
    "Take the minimum length of a dataframe (limit set to 140) and cut down all other dataframes from the top and bottom to be the minimum length.\n"
   ]
  },
  {
   "cell_type": "code",
   "execution_count": 0,
   "metadata": {
    "colab": {
     "base_uri": "https://localhost:8080/",
     "height": 55
    },
    "colab_type": "code",
    "id": "j5YUarSzejMD",
    "outputId": "c2675ce9-61c9-4521-ae3e-c3ea945d4460"
   },
   "outputs": [
    {
     "name": "stdout",
     "output_type": "stream",
     "text": [
      "1 2 3 4 5 6 7 8 9 10 11 12 13 14 15 16 17 18 19 20 21 22 23 24 25 26 27 28 29 30 31 32 33 34 35 36 37 38 39 40 41 42 43 44 45 46 47 48 49 50 51 52 53 54 55 56 57 58 59 60 61 62 63 64 65 66 67 68 69 70 71 72 73 74 75 76 77 78 79 80 81 82 83 84 85 86 87 88 89 90 91 92 93 94 95 96 97 98 99 100 101 102 103 104 105 106 107 108 109 110 111 112 113 114 115 116 117 118 119 120 121 122 123 124 125 126 127 128 129 130 131 132 133 134 135 136 137 138 139 140 141 142 143 144 145 146 147 148 149 150 151 152 153 154 155 156 157 158 159 160 161 162 163 164 165 166 167 168 169 170 171 172 173 174 175 176 177 178 179 180 181 182 183 184 185 186 187 188 189 190 191 192 193 194 195 196 197 198 199 200 201 202 203 204 205 206 207 208 209 210 211 212 213 214 215 216 217 218 219 220 221 222 223 224 225 226 227 228 229 230 231 232 233 234 235 236 237 238 239 240 241 242 243 244 245 246 247 248 249 250 251 "
     ]
    }
   ],
   "source": [
    "#Making All the Dataframes of the Minimum Length - Inplace\n",
    "minlen = min([len(df) for df in dfs])\n",
    "c = 0\n",
    "for i in range(len(dfs)):\n",
    "  c += 1\n",
    "  dflen = len(dfs[i])\n",
    "  if(dflen>minlen):\n",
    "    dellen = dflen-minlen\n",
    "    startlen = int(dellen/2)\n",
    "    endlen = dflen - (dellen - startlen)\n",
    "    dfs[i] = dfs[i].iloc[startlen:endlen].reset_index(drop=True)\n",
    "  print(c, end=' ')\n",
    "\n",
    "#This was used for testing while using our own videos as the training dataset"
   ]
  },
  {
   "cell_type": "markdown",
   "metadata": {
    "colab_type": "text",
    "id": "6JDm_kPyxKAI"
   },
   "source": [
    "## Approach 2 [ Followed ]\n",
    "\n",
    "\n",
    "---\n",
    "Getting the maximum length of rows in any given CSV input file, and imputing all other dataframes with mean value rows till they are the maximum length.\n"
   ]
  },
  {
   "cell_type": "code",
   "execution_count": 0,
   "metadata": {
    "colab": {},
    "colab_type": "code",
    "id": "3ocV5jseinLb"
   },
   "outputs": [],
   "source": [
    "# Approach 2\n",
    "maxlen = max([len(df) for df in dfs])\n",
    "c = 0\n",
    "for i in range(len(dfs)):\n",
    "  c += 1\n",
    "  dflen = len(dfs[i])\n",
    "  #print(i)\n",
    "  if(len(dfs[i])<maxlen):\n",
    "    dfs[i] = dfs[i].append([pd.Series()]*(maxlen-dflen), ignore_index=True)\n",
    "  dfs[i].fillna(dfs[i].mean(), inplace=True)"
   ]
  },
  {
   "cell_type": "markdown",
   "metadata": {
    "colab_type": "text",
    "id": "D-Q1dedj8Up_"
   },
   "source": [
    "## Changing String Values of Labels to Integers"
   ]
  },
  {
   "cell_type": "code",
   "execution_count": 0,
   "metadata": {
    "colab": {},
    "colab_type": "code",
    "id": "UuTNvvVdsaxx"
   },
   "outputs": [],
   "source": [
    "mapdict = {'communicate':0, 'communication':0, 'hope':1, 'mother':2, 'really':3, 'fun':4, 'buy':5}\n",
    "for i in range(len(signs)):\n",
    "  if(signs[i]=='communication'):\n",
    "    signs[i] = ('communicate', mapdict[signs[i]])\n",
    "  else:\n",
    "    signs[i] = (signs[i], mapdict[signs[i]])"
   ]
  },
  {
   "cell_type": "markdown",
   "metadata": {
    "colab_type": "text",
    "id": "gzjC39lJ8ah-"
   },
   "source": [
    "## Creating the master list of all above entries"
   ]
  },
  {
   "cell_type": "code",
   "execution_count": 0,
   "metadata": {
    "colab": {},
    "colab_type": "code",
    "id": "d4Bw7FjUoeYf"
   },
   "outputs": [],
   "source": [
    "X_all = np.stack(dfs)\n",
    "y_all = np.array(signs)"
   ]
  },
  {
   "cell_type": "markdown",
   "metadata": {
    "colab_type": "text",
    "id": "s0D6MZPXn3wD"
   },
   "source": [
    "## Storing the data"
   ]
  },
  {
   "cell_type": "code",
   "execution_count": 0,
   "metadata": {
    "colab": {},
    "colab_type": "code",
    "id": "_3_3cnCc207k"
   },
   "outputs": [],
   "source": [
    "f = open('Yfileupdated', 'wb')\n",
    "pickle.dump(y_all, f)\n",
    "f.close()\n",
    "f = open('Xfileupdated', 'wb')\n",
    "pickle.dump(X_all, f)\n",
    "f.close()"
   ]
  },
  {
   "cell_type": "markdown",
   "metadata": {
    "colab_type": "text",
    "id": "tS45kJYl0Pwp"
   },
   "source": [
    "## Optional Code\n",
    "\n",
    "\n",
    "---\n",
    "Given a json object, should return a list of dicts with the entries.\n",
    "\n",
    "If train=False, does not include the sign name (as there is none available in test dataset)\n",
    "\n"
   ]
  },
  {
   "cell_type": "code",
   "execution_count": 0,
   "metadata": {
    "colab": {},
    "colab_type": "code",
    "id": "oqgP3-Ut0O7D"
   },
   "outputs": [],
   "source": [
    "def json_to_list(jsonobj, train=False):\n",
    "  jobj = json.loads(jsonobj)\n",
    "\n",
    "  total_li = []\n",
    "  tmpobj = {}\n",
    "\n",
    "  if(train==True):\n",
    "    filename = filename.replace('.json','')\n",
    "    f = filename.split('_')\n",
    "    tmpobj = {'sign':f[0], 'practice':f[2], 'person':f[3], 'imagenum':str(c)}\n",
    "  \n",
    "  c = 1\n",
    "  baseval = None\n",
    "  for image in jobj:\n",
    "    for kp in image['keypoints']:\n",
    "      tmpobj[kp['part']+'_score'] = kp['score']\n",
    "      tmpobj[kp['part']+'_x'] = kp['position']['x']\n",
    "      tmpobj[kp['part']+'_y'] = kp['position']['y']\n",
    "\n",
    "    total_li.append(tmpobj)\n",
    "    c += 1\n",
    "  return total_li\n"
   ]
  },
  {
   "cell_type": "markdown",
   "metadata": {
    "colab_type": "text",
    "id": "6go5-4tP0Mz5"
   },
   "source": [
    "## The End\n",
    "\n",
    "---\n",
    "\n"
   ]
  }
 ],
 "metadata": {
  "colab": {
   "collapsed_sections": [],
   "name": "MC Assignment 2 - Data Preparation.ipynb",
   "provenance": []
  },
  "kernelspec": {
   "display_name": "Python 3",
   "language": "python",
   "name": "python3"
  },
  "language_info": {
   "codemirror_mode": {
    "name": "ipython",
    "version": 3
   },
   "file_extension": ".py",
   "mimetype": "text/x-python",
   "name": "python",
   "nbconvert_exporter": "python",
   "pygments_lexer": "ipython3",
   "version": "3.7.3"
  }
 },
 "nbformat": 4,
 "nbformat_minor": 1
}
