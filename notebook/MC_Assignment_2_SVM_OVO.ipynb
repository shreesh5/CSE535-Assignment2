{
 "cells": [
  {
   "cell_type": "markdown",
   "metadata": {},
   "source": [
    "# Import Statements"
   ]
  },
  {
   "cell_type": "code",
   "execution_count": 1,
   "metadata": {},
   "outputs": [],
   "source": [
    "import pandas as pd\n",
    "import json\n",
    "import numpy as np\n",
    "import pickle\n",
    "\n",
    "from sklearn.preprocessing import StandardScaler\n",
    "\n",
    "from sklearn.svm import SVC\n",
    "from sklearn.model_selection import GridSearchCV\n",
    "\n",
    "from sklearn.model_selection import train_test_split\n",
    "from sklearn.metrics import classification_report, confusion_matrix\n",
    "\n",
    "from sklearn.model_selection import cross_val_predict"
   ]
  },
  {
   "cell_type": "markdown",
   "metadata": {},
   "source": [
    "# Loading the files created during the Data Preparation Step"
   ]
  },
  {
   "cell_type": "code",
   "execution_count": 2,
   "metadata": {},
   "outputs": [],
   "source": [
    "x = open('Xfile_final.pkl','rb')\n",
    "X_all = pickle.load(x)\n",
    "x.close()\n",
    "y = open('Yfile_final.pkl','rb')\n",
    "Y_all = pickle.load(y)\n",
    "y.close()"
   ]
  },
  {
   "cell_type": "markdown",
   "metadata": {},
   "source": [
    "# Reshaping the The Data "
   ]
  },
  {
   "cell_type": "code",
   "execution_count": 3,
   "metadata": {},
   "outputs": [
    {
     "name": "stdout",
     "output_type": "stream",
     "text": [
      "(415, 232, 12)\n",
      "(415, 2784)\n"
     ]
    }
   ],
   "source": [
    "print(X_all.shape)\n",
    "X_final = X_all.reshape(415,-1)\n",
    "print(X_final.shape)"
   ]
  },
  {
   "cell_type": "markdown",
   "metadata": {},
   "source": [
    "# Scaling the Data"
   ]
  },
  {
   "cell_type": "code",
   "execution_count": 4,
   "metadata": {},
   "outputs": [],
   "source": [
    "scaler = StandardScaler()\n",
    "scaler.fit(X_final)\n",
    "scaled_x = scaler.transform(X_final)"
   ]
  },
  {
   "cell_type": "markdown",
   "metadata": {},
   "source": [
    "# Using GridSearch to Determine the Best HyperParameter Configuration"
   ]
  },
  {
   "cell_type": "code",
   "execution_count": 5,
   "metadata": {},
   "outputs": [
    {
     "name": "stdout",
     "output_type": "stream",
     "text": [
      "Fitting 5 folds for each of 60 candidates, totalling 300 fits\n",
      "[CV] C=1, kernel=rbf, max_iter=1000 ..................................\n"
     ]
    },
    {
     "name": "stderr",
     "output_type": "stream",
     "text": [
      "[Parallel(n_jobs=1)]: Using backend SequentialBackend with 1 concurrent workers.\n"
     ]
    },
    {
     "name": "stdout",
     "output_type": "stream",
     "text": [
      "[CV] ................... C=1, kernel=rbf, max_iter=1000, total=   0.6s\n",
      "[CV] C=1, kernel=rbf, max_iter=1000 ..................................\n"
     ]
    },
    {
     "name": "stderr",
     "output_type": "stream",
     "text": [
      "[Parallel(n_jobs=1)]: Done   1 out of   1 | elapsed:    0.6s remaining:    0.0s\n"
     ]
    },
    {
     "name": "stdout",
     "output_type": "stream",
     "text": [
      "[CV] ................... C=1, kernel=rbf, max_iter=1000, total=   0.6s\n",
      "[CV] C=1, kernel=rbf, max_iter=1000 ..................................\n",
      "[CV] ................... C=1, kernel=rbf, max_iter=1000, total=   0.6s\n",
      "[CV] C=1, kernel=rbf, max_iter=1000 ..................................\n",
      "[CV] ................... C=1, kernel=rbf, max_iter=1000, total=   0.6s\n",
      "[CV] C=1, kernel=rbf, max_iter=1000 ..................................\n",
      "[CV] ................... C=1, kernel=rbf, max_iter=1000, total=   0.6s\n",
      "[CV] C=1, kernel=rbf, max_iter=2000 ..................................\n",
      "[CV] ................... C=1, kernel=rbf, max_iter=2000, total=   0.6s\n",
      "[CV] C=1, kernel=rbf, max_iter=2000 ..................................\n",
      "[CV] ................... C=1, kernel=rbf, max_iter=2000, total=   0.6s\n",
      "[CV] C=1, kernel=rbf, max_iter=2000 ..................................\n",
      "[CV] ................... C=1, kernel=rbf, max_iter=2000, total=   0.6s\n",
      "[CV] C=1, kernel=rbf, max_iter=2000 ..................................\n",
      "[CV] ................... C=1, kernel=rbf, max_iter=2000, total=   0.6s\n",
      "[CV] C=1, kernel=rbf, max_iter=2000 ..................................\n",
      "[CV] ................... C=1, kernel=rbf, max_iter=2000, total=   0.6s\n",
      "[CV] C=1, kernel=rbf, max_iter=3000 ..................................\n",
      "[CV] ................... C=1, kernel=rbf, max_iter=3000, total=   0.6s\n",
      "[CV] C=1, kernel=rbf, max_iter=3000 ..................................\n",
      "[CV] ................... C=1, kernel=rbf, max_iter=3000, total=   0.6s\n",
      "[CV] C=1, kernel=rbf, max_iter=3000 ..................................\n",
      "[CV] ................... C=1, kernel=rbf, max_iter=3000, total=   0.6s\n",
      "[CV] C=1, kernel=rbf, max_iter=3000 ..................................\n",
      "[CV] ................... C=1, kernel=rbf, max_iter=3000, total=   0.6s\n",
      "[CV] C=1, kernel=rbf, max_iter=3000 ..................................\n",
      "[CV] ................... C=1, kernel=rbf, max_iter=3000, total=   0.6s\n",
      "[CV] C=1, kernel=rbf, max_iter=4000 ..................................\n",
      "[CV] ................... C=1, kernel=rbf, max_iter=4000, total=   0.6s\n",
      "[CV] C=1, kernel=rbf, max_iter=4000 ..................................\n",
      "[CV] ................... C=1, kernel=rbf, max_iter=4000, total=   0.6s\n",
      "[CV] C=1, kernel=rbf, max_iter=4000 ..................................\n",
      "[CV] ................... C=1, kernel=rbf, max_iter=4000, total=   0.6s\n",
      "[CV] C=1, kernel=rbf, max_iter=4000 ..................................\n",
      "[CV] ................... C=1, kernel=rbf, max_iter=4000, total=   0.6s\n",
      "[CV] C=1, kernel=rbf, max_iter=4000 ..................................\n",
      "[CV] ................... C=1, kernel=rbf, max_iter=4000, total=   0.6s\n",
      "[CV] C=1, kernel=rbf, max_iter=5000 ..................................\n",
      "[CV] ................... C=1, kernel=rbf, max_iter=5000, total=   0.6s\n",
      "[CV] C=1, kernel=rbf, max_iter=5000 ..................................\n",
      "[CV] ................... C=1, kernel=rbf, max_iter=5000, total=   0.6s\n",
      "[CV] C=1, kernel=rbf, max_iter=5000 ..................................\n",
      "[CV] ................... C=1, kernel=rbf, max_iter=5000, total=   0.6s\n",
      "[CV] C=1, kernel=rbf, max_iter=5000 ..................................\n",
      "[CV] ................... C=1, kernel=rbf, max_iter=5000, total=   0.6s\n",
      "[CV] C=1, kernel=rbf, max_iter=5000 ..................................\n",
      "[CV] ................... C=1, kernel=rbf, max_iter=5000, total=   0.6s\n",
      "[CV] C=1, kernel=poly, max_iter=1000 .................................\n",
      "[CV] .................. C=1, kernel=poly, max_iter=1000, total=   0.6s\n",
      "[CV] C=1, kernel=poly, max_iter=1000 .................................\n",
      "[CV] .................. C=1, kernel=poly, max_iter=1000, total=   0.6s\n",
      "[CV] C=1, kernel=poly, max_iter=1000 .................................\n",
      "[CV] .................. C=1, kernel=poly, max_iter=1000, total=   0.6s\n",
      "[CV] C=1, kernel=poly, max_iter=1000 .................................\n",
      "[CV] .................. C=1, kernel=poly, max_iter=1000, total=   0.7s\n",
      "[CV] C=1, kernel=poly, max_iter=1000 .................................\n",
      "[CV] .................. C=1, kernel=poly, max_iter=1000, total=   0.6s\n",
      "[CV] C=1, kernel=poly, max_iter=2000 .................................\n",
      "[CV] .................. C=1, kernel=poly, max_iter=2000, total=   0.6s\n",
      "[CV] C=1, kernel=poly, max_iter=2000 .................................\n",
      "[CV] .................. C=1, kernel=poly, max_iter=2000, total=   0.6s\n",
      "[CV] C=1, kernel=poly, max_iter=2000 .................................\n",
      "[CV] .................. C=1, kernel=poly, max_iter=2000, total=   0.6s\n",
      "[CV] C=1, kernel=poly, max_iter=2000 .................................\n",
      "[CV] .................. C=1, kernel=poly, max_iter=2000, total=   0.7s\n",
      "[CV] C=1, kernel=poly, max_iter=2000 .................................\n",
      "[CV] .................. C=1, kernel=poly, max_iter=2000, total=   0.6s\n",
      "[CV] C=1, kernel=poly, max_iter=3000 .................................\n",
      "[CV] .................. C=1, kernel=poly, max_iter=3000, total=   0.6s\n",
      "[CV] C=1, kernel=poly, max_iter=3000 .................................\n",
      "[CV] .................. C=1, kernel=poly, max_iter=3000, total=   0.6s\n",
      "[CV] C=1, kernel=poly, max_iter=3000 .................................\n",
      "[CV] .................. C=1, kernel=poly, max_iter=3000, total=   0.6s\n",
      "[CV] C=1, kernel=poly, max_iter=3000 .................................\n",
      "[CV] .................. C=1, kernel=poly, max_iter=3000, total=   0.7s\n",
      "[CV] C=1, kernel=poly, max_iter=3000 .................................\n",
      "[CV] .................. C=1, kernel=poly, max_iter=3000, total=   0.6s\n",
      "[CV] C=1, kernel=poly, max_iter=4000 .................................\n",
      "[CV] .................. C=1, kernel=poly, max_iter=4000, total=   0.6s\n",
      "[CV] C=1, kernel=poly, max_iter=4000 .................................\n",
      "[CV] .................. C=1, kernel=poly, max_iter=4000, total=   0.6s\n",
      "[CV] C=1, kernel=poly, max_iter=4000 .................................\n",
      "[CV] .................. C=1, kernel=poly, max_iter=4000, total=   0.6s\n",
      "[CV] C=1, kernel=poly, max_iter=4000 .................................\n",
      "[CV] .................. C=1, kernel=poly, max_iter=4000, total=   0.7s\n",
      "[CV] C=1, kernel=poly, max_iter=4000 .................................\n",
      "[CV] .................. C=1, kernel=poly, max_iter=4000, total=   0.7s\n",
      "[CV] C=1, kernel=poly, max_iter=5000 .................................\n",
      "[CV] .................. C=1, kernel=poly, max_iter=5000, total=   0.7s\n",
      "[CV] C=1, kernel=poly, max_iter=5000 .................................\n",
      "[CV] .................. C=1, kernel=poly, max_iter=5000, total=   0.6s\n",
      "[CV] C=1, kernel=poly, max_iter=5000 .................................\n",
      "[CV] .................. C=1, kernel=poly, max_iter=5000, total=   0.6s\n",
      "[CV] C=1, kernel=poly, max_iter=5000 .................................\n",
      "[CV] .................. C=1, kernel=poly, max_iter=5000, total=   0.7s\n",
      "[CV] C=1, kernel=poly, max_iter=5000 .................................\n",
      "[CV] .................. C=1, kernel=poly, max_iter=5000, total=   0.7s\n",
      "[CV] C=10, kernel=rbf, max_iter=1000 .................................\n",
      "[CV] .................. C=10, kernel=rbf, max_iter=1000, total=   0.5s\n",
      "[CV] C=10, kernel=rbf, max_iter=1000 .................................\n",
      "[CV] .................. C=10, kernel=rbf, max_iter=1000, total=   0.5s\n",
      "[CV] C=10, kernel=rbf, max_iter=1000 .................................\n",
      "[CV] .................. C=10, kernel=rbf, max_iter=1000, total=   0.5s\n",
      "[CV] C=10, kernel=rbf, max_iter=1000 .................................\n",
      "[CV] .................. C=10, kernel=rbf, max_iter=1000, total=   0.5s\n",
      "[CV] C=10, kernel=rbf, max_iter=1000 .................................\n",
      "[CV] .................. C=10, kernel=rbf, max_iter=1000, total=   0.4s\n",
      "[CV] C=10, kernel=rbf, max_iter=2000 .................................\n",
      "[CV] .................. C=10, kernel=rbf, max_iter=2000, total=   0.4s\n",
      "[CV] C=10, kernel=rbf, max_iter=2000 .................................\n",
      "[CV] .................. C=10, kernel=rbf, max_iter=2000, total=   0.4s\n",
      "[CV] C=10, kernel=rbf, max_iter=2000 .................................\n",
      "[CV] .................. C=10, kernel=rbf, max_iter=2000, total=   0.4s\n",
      "[CV] C=10, kernel=rbf, max_iter=2000 .................................\n",
      "[CV] .................. C=10, kernel=rbf, max_iter=2000, total=   0.4s\n",
      "[CV] C=10, kernel=rbf, max_iter=2000 .................................\n"
     ]
    },
    {
     "name": "stdout",
     "output_type": "stream",
     "text": [
      "[CV] .................. C=10, kernel=rbf, max_iter=2000, total=   0.4s\n",
      "[CV] C=10, kernel=rbf, max_iter=3000 .................................\n",
      "[CV] .................. C=10, kernel=rbf, max_iter=3000, total=   0.4s\n",
      "[CV] C=10, kernel=rbf, max_iter=3000 .................................\n",
      "[CV] .................. C=10, kernel=rbf, max_iter=3000, total=   0.4s\n",
      "[CV] C=10, kernel=rbf, max_iter=3000 .................................\n",
      "[CV] .................. C=10, kernel=rbf, max_iter=3000, total=   0.5s\n",
      "[CV] C=10, kernel=rbf, max_iter=3000 .................................\n",
      "[CV] .................. C=10, kernel=rbf, max_iter=3000, total=   0.5s\n",
      "[CV] C=10, kernel=rbf, max_iter=3000 .................................\n",
      "[CV] .................. C=10, kernel=rbf, max_iter=3000, total=   0.5s\n",
      "[CV] C=10, kernel=rbf, max_iter=4000 .................................\n",
      "[CV] .................. C=10, kernel=rbf, max_iter=4000, total=   0.5s\n",
      "[CV] C=10, kernel=rbf, max_iter=4000 .................................\n",
      "[CV] .................. C=10, kernel=rbf, max_iter=4000, total=   0.4s\n",
      "[CV] C=10, kernel=rbf, max_iter=4000 .................................\n",
      "[CV] .................. C=10, kernel=rbf, max_iter=4000, total=   0.5s\n",
      "[CV] C=10, kernel=rbf, max_iter=4000 .................................\n",
      "[CV] .................. C=10, kernel=rbf, max_iter=4000, total=   0.5s\n",
      "[CV] C=10, kernel=rbf, max_iter=4000 .................................\n",
      "[CV] .................. C=10, kernel=rbf, max_iter=4000, total=   0.5s\n",
      "[CV] C=10, kernel=rbf, max_iter=5000 .................................\n",
      "[CV] .................. C=10, kernel=rbf, max_iter=5000, total=   0.5s\n",
      "[CV] C=10, kernel=rbf, max_iter=5000 .................................\n",
      "[CV] .................. C=10, kernel=rbf, max_iter=5000, total=   0.4s\n",
      "[CV] C=10, kernel=rbf, max_iter=5000 .................................\n",
      "[CV] .................. C=10, kernel=rbf, max_iter=5000, total=   0.5s\n",
      "[CV] C=10, kernel=rbf, max_iter=5000 .................................\n",
      "[CV] .................. C=10, kernel=rbf, max_iter=5000, total=   0.5s\n",
      "[CV] C=10, kernel=rbf, max_iter=5000 .................................\n",
      "[CV] .................. C=10, kernel=rbf, max_iter=5000, total=   0.4s\n",
      "[CV] C=10, kernel=poly, max_iter=1000 ................................\n"
     ]
    },
    {
     "name": "stderr",
     "output_type": "stream",
     "text": [
      "/usr/local/lib/python3.7/dist-packages/sklearn/svm/base.py:241: ConvergenceWarning: Solver terminated early (max_iter=1000).  Consider pre-processing your data with StandardScaler or MinMaxScaler.\n",
      "  % self.max_iter, ConvergenceWarning)\n"
     ]
    },
    {
     "name": "stdout",
     "output_type": "stream",
     "text": [
      "[CV] ................. C=10, kernel=poly, max_iter=1000, total=   0.5s\n",
      "[CV] C=10, kernel=poly, max_iter=1000 ................................\n"
     ]
    },
    {
     "name": "stderr",
     "output_type": "stream",
     "text": [
      "/usr/local/lib/python3.7/dist-packages/sklearn/svm/base.py:241: ConvergenceWarning: Solver terminated early (max_iter=1000).  Consider pre-processing your data with StandardScaler or MinMaxScaler.\n",
      "  % self.max_iter, ConvergenceWarning)\n"
     ]
    },
    {
     "name": "stdout",
     "output_type": "stream",
     "text": [
      "[CV] ................. C=10, kernel=poly, max_iter=1000, total=   0.4s\n",
      "[CV] C=10, kernel=poly, max_iter=1000 ................................\n"
     ]
    },
    {
     "name": "stderr",
     "output_type": "stream",
     "text": [
      "/usr/local/lib/python3.7/dist-packages/sklearn/svm/base.py:241: ConvergenceWarning: Solver terminated early (max_iter=1000).  Consider pre-processing your data with StandardScaler or MinMaxScaler.\n",
      "  % self.max_iter, ConvergenceWarning)\n"
     ]
    },
    {
     "name": "stdout",
     "output_type": "stream",
     "text": [
      "[CV] ................. C=10, kernel=poly, max_iter=1000, total=   0.5s\n",
      "[CV] C=10, kernel=poly, max_iter=1000 ................................\n"
     ]
    },
    {
     "name": "stderr",
     "output_type": "stream",
     "text": [
      "/usr/local/lib/python3.7/dist-packages/sklearn/svm/base.py:241: ConvergenceWarning: Solver terminated early (max_iter=1000).  Consider pre-processing your data with StandardScaler or MinMaxScaler.\n",
      "  % self.max_iter, ConvergenceWarning)\n"
     ]
    },
    {
     "name": "stdout",
     "output_type": "stream",
     "text": [
      "[CV] ................. C=10, kernel=poly, max_iter=1000, total=   0.5s\n",
      "[CV] C=10, kernel=poly, max_iter=1000 ................................\n",
      "[CV] ................. C=10, kernel=poly, max_iter=1000, total=   0.5s\n",
      "[CV] C=10, kernel=poly, max_iter=2000 ................................\n",
      "[CV] ................. C=10, kernel=poly, max_iter=2000, total=   0.5s\n",
      "[CV] C=10, kernel=poly, max_iter=2000 ................................\n",
      "[CV] ................. C=10, kernel=poly, max_iter=2000, total=   0.5s\n",
      "[CV] C=10, kernel=poly, max_iter=2000 ................................\n",
      "[CV] ................. C=10, kernel=poly, max_iter=2000, total=   0.5s\n",
      "[CV] C=10, kernel=poly, max_iter=2000 ................................\n",
      "[CV] ................. C=10, kernel=poly, max_iter=2000, total=   0.5s\n",
      "[CV] C=10, kernel=poly, max_iter=2000 ................................\n",
      "[CV] ................. C=10, kernel=poly, max_iter=2000, total=   0.5s\n",
      "[CV] C=10, kernel=poly, max_iter=3000 ................................\n",
      "[CV] ................. C=10, kernel=poly, max_iter=3000, total=   0.5s\n",
      "[CV] C=10, kernel=poly, max_iter=3000 ................................\n",
      "[CV] ................. C=10, kernel=poly, max_iter=3000, total=   0.4s\n",
      "[CV] C=10, kernel=poly, max_iter=3000 ................................\n",
      "[CV] ................. C=10, kernel=poly, max_iter=3000, total=   0.5s\n",
      "[CV] C=10, kernel=poly, max_iter=3000 ................................\n",
      "[CV] ................. C=10, kernel=poly, max_iter=3000, total=   0.5s\n",
      "[CV] C=10, kernel=poly, max_iter=3000 ................................\n",
      "[CV] ................. C=10, kernel=poly, max_iter=3000, total=   0.5s\n",
      "[CV] C=10, kernel=poly, max_iter=4000 ................................\n",
      "[CV] ................. C=10, kernel=poly, max_iter=4000, total=   0.5s\n",
      "[CV] C=10, kernel=poly, max_iter=4000 ................................\n",
      "[CV] ................. C=10, kernel=poly, max_iter=4000, total=   0.5s\n",
      "[CV] C=10, kernel=poly, max_iter=4000 ................................\n",
      "[CV] ................. C=10, kernel=poly, max_iter=4000, total=   0.5s\n",
      "[CV] C=10, kernel=poly, max_iter=4000 ................................\n",
      "[CV] ................. C=10, kernel=poly, max_iter=4000, total=   0.5s\n",
      "[CV] C=10, kernel=poly, max_iter=4000 ................................\n",
      "[CV] ................. C=10, kernel=poly, max_iter=4000, total=   0.5s\n",
      "[CV] C=10, kernel=poly, max_iter=5000 ................................\n",
      "[CV] ................. C=10, kernel=poly, max_iter=5000, total=   0.5s\n",
      "[CV] C=10, kernel=poly, max_iter=5000 ................................\n",
      "[CV] ................. C=10, kernel=poly, max_iter=5000, total=   0.4s\n",
      "[CV] C=10, kernel=poly, max_iter=5000 ................................\n",
      "[CV] ................. C=10, kernel=poly, max_iter=5000, total=   0.5s\n",
      "[CV] C=10, kernel=poly, max_iter=5000 ................................\n",
      "[CV] ................. C=10, kernel=poly, max_iter=5000, total=   0.5s\n",
      "[CV] C=10, kernel=poly, max_iter=5000 ................................\n",
      "[CV] ................. C=10, kernel=poly, max_iter=5000, total=   0.5s\n",
      "[CV] C=10, kernel=rbf, max_iter=1000 .................................\n",
      "[CV] .................. C=10, kernel=rbf, max_iter=1000, total=   0.4s\n",
      "[CV] C=10, kernel=rbf, max_iter=1000 .................................\n",
      "[CV] .................. C=10, kernel=rbf, max_iter=1000, total=   0.4s\n",
      "[CV] C=10, kernel=rbf, max_iter=1000 .................................\n",
      "[CV] .................. C=10, kernel=rbf, max_iter=1000, total=   0.5s\n",
      "[CV] C=10, kernel=rbf, max_iter=1000 .................................\n",
      "[CV] .................. C=10, kernel=rbf, max_iter=1000, total=   0.5s\n",
      "[CV] C=10, kernel=rbf, max_iter=1000 .................................\n",
      "[CV] .................. C=10, kernel=rbf, max_iter=1000, total=   0.4s\n",
      "[CV] C=10, kernel=rbf, max_iter=2000 .................................\n",
      "[CV] .................. C=10, kernel=rbf, max_iter=2000, total=   0.4s\n",
      "[CV] C=10, kernel=rbf, max_iter=2000 .................................\n",
      "[CV] .................. C=10, kernel=rbf, max_iter=2000, total=   0.4s\n",
      "[CV] C=10, kernel=rbf, max_iter=2000 .................................\n",
      "[CV] .................. C=10, kernel=rbf, max_iter=2000, total=   0.5s\n",
      "[CV] C=10, kernel=rbf, max_iter=2000 .................................\n",
      "[CV] .................. C=10, kernel=rbf, max_iter=2000, total=   0.5s\n",
      "[CV] C=10, kernel=rbf, max_iter=2000 .................................\n",
      "[CV] .................. C=10, kernel=rbf, max_iter=2000, total=   0.5s\n",
      "[CV] C=10, kernel=rbf, max_iter=3000 .................................\n",
      "[CV] .................. C=10, kernel=rbf, max_iter=3000, total=   0.4s\n",
      "[CV] C=10, kernel=rbf, max_iter=3000 .................................\n",
      "[CV] .................. C=10, kernel=rbf, max_iter=3000, total=   0.4s\n",
      "[CV] C=10, kernel=rbf, max_iter=3000 .................................\n",
      "[CV] .................. C=10, kernel=rbf, max_iter=3000, total=   0.4s\n",
      "[CV] C=10, kernel=rbf, max_iter=3000 .................................\n",
      "[CV] .................. C=10, kernel=rbf, max_iter=3000, total=   0.4s\n",
      "[CV] C=10, kernel=rbf, max_iter=3000 .................................\n",
      "[CV] .................. C=10, kernel=rbf, max_iter=3000, total=   0.4s\n",
      "[CV] C=10, kernel=rbf, max_iter=4000 .................................\n",
      "[CV] .................. C=10, kernel=rbf, max_iter=4000, total=   0.4s\n",
      "[CV] C=10, kernel=rbf, max_iter=4000 .................................\n",
      "[CV] .................. C=10, kernel=rbf, max_iter=4000, total=   0.4s\n",
      "[CV] C=10, kernel=rbf, max_iter=4000 .................................\n",
      "[CV] .................. C=10, kernel=rbf, max_iter=4000, total=   0.4s\n",
      "[CV] C=10, kernel=rbf, max_iter=4000 .................................\n",
      "[CV] .................. C=10, kernel=rbf, max_iter=4000, total=   0.4s\n",
      "[CV] C=10, kernel=rbf, max_iter=4000 .................................\n",
      "[CV] .................. C=10, kernel=rbf, max_iter=4000, total=   0.4s\n",
      "[CV] C=10, kernel=rbf, max_iter=5000 .................................\n",
      "[CV] .................. C=10, kernel=rbf, max_iter=5000, total=   0.4s\n",
      "[CV] C=10, kernel=rbf, max_iter=5000 .................................\n",
      "[CV] .................. C=10, kernel=rbf, max_iter=5000, total=   0.4s\n",
      "[CV] C=10, kernel=rbf, max_iter=5000 .................................\n",
      "[CV] .................. C=10, kernel=rbf, max_iter=5000, total=   0.4s\n",
      "[CV] C=10, kernel=rbf, max_iter=5000 .................................\n",
      "[CV] .................. C=10, kernel=rbf, max_iter=5000, total=   0.4s\n",
      "[CV] C=10, kernel=rbf, max_iter=5000 .................................\n",
      "[CV] .................. C=10, kernel=rbf, max_iter=5000, total=   0.4s\n",
      "[CV] C=10, kernel=poly, max_iter=1000 ................................\n"
     ]
    },
    {
     "name": "stderr",
     "output_type": "stream",
     "text": [
      "/usr/local/lib/python3.7/dist-packages/sklearn/svm/base.py:241: ConvergenceWarning: Solver terminated early (max_iter=1000).  Consider pre-processing your data with StandardScaler or MinMaxScaler.\n",
      "  % self.max_iter, ConvergenceWarning)\n"
     ]
    },
    {
     "name": "stdout",
     "output_type": "stream",
     "text": [
      "[CV] ................. C=10, kernel=poly, max_iter=1000, total=   0.5s\n",
      "[CV] C=10, kernel=poly, max_iter=1000 ................................\n"
     ]
    },
    {
     "name": "stderr",
     "output_type": "stream",
     "text": [
      "/usr/local/lib/python3.7/dist-packages/sklearn/svm/base.py:241: ConvergenceWarning: Solver terminated early (max_iter=1000).  Consider pre-processing your data with StandardScaler or MinMaxScaler.\n",
      "  % self.max_iter, ConvergenceWarning)\n"
     ]
    },
    {
     "name": "stdout",
     "output_type": "stream",
     "text": [
      "[CV] ................. C=10, kernel=poly, max_iter=1000, total=   0.4s\n",
      "[CV] C=10, kernel=poly, max_iter=1000 ................................\n"
     ]
    },
    {
     "name": "stderr",
     "output_type": "stream",
     "text": [
      "/usr/local/lib/python3.7/dist-packages/sklearn/svm/base.py:241: ConvergenceWarning: Solver terminated early (max_iter=1000).  Consider pre-processing your data with StandardScaler or MinMaxScaler.\n",
      "  % self.max_iter, ConvergenceWarning)\n"
     ]
    },
    {
     "name": "stdout",
     "output_type": "stream",
     "text": [
      "[CV] ................. C=10, kernel=poly, max_iter=1000, total=   0.4s\n",
      "[CV] C=10, kernel=poly, max_iter=1000 ................................\n"
     ]
    },
    {
     "name": "stderr",
     "output_type": "stream",
     "text": [
      "/usr/local/lib/python3.7/dist-packages/sklearn/svm/base.py:241: ConvergenceWarning: Solver terminated early (max_iter=1000).  Consider pre-processing your data with StandardScaler or MinMaxScaler.\n",
      "  % self.max_iter, ConvergenceWarning)\n"
     ]
    },
    {
     "name": "stdout",
     "output_type": "stream",
     "text": [
      "[CV] ................. C=10, kernel=poly, max_iter=1000, total=   0.5s\n",
      "[CV] C=10, kernel=poly, max_iter=1000 ................................\n",
      "[CV] ................. C=10, kernel=poly, max_iter=1000, total=   0.5s\n",
      "[CV] C=10, kernel=poly, max_iter=2000 ................................\n",
      "[CV] ................. C=10, kernel=poly, max_iter=2000, total=   0.5s\n",
      "[CV] C=10, kernel=poly, max_iter=2000 ................................\n",
      "[CV] ................. C=10, kernel=poly, max_iter=2000, total=   0.4s\n",
      "[CV] C=10, kernel=poly, max_iter=2000 ................................\n",
      "[CV] ................. C=10, kernel=poly, max_iter=2000, total=   0.4s\n",
      "[CV] C=10, kernel=poly, max_iter=2000 ................................\n",
      "[CV] ................. C=10, kernel=poly, max_iter=2000, total=   0.5s\n",
      "[CV] C=10, kernel=poly, max_iter=2000 ................................\n",
      "[CV] ................. C=10, kernel=poly, max_iter=2000, total=   0.5s\n",
      "[CV] C=10, kernel=poly, max_iter=3000 ................................\n",
      "[CV] ................. C=10, kernel=poly, max_iter=3000, total=   0.5s\n",
      "[CV] C=10, kernel=poly, max_iter=3000 ................................\n",
      "[CV] ................. C=10, kernel=poly, max_iter=3000, total=   0.4s\n",
      "[CV] C=10, kernel=poly, max_iter=3000 ................................\n",
      "[CV] ................. C=10, kernel=poly, max_iter=3000, total=   0.5s\n",
      "[CV] C=10, kernel=poly, max_iter=3000 ................................\n",
      "[CV] ................. C=10, kernel=poly, max_iter=3000, total=   0.5s\n",
      "[CV] C=10, kernel=poly, max_iter=3000 ................................\n",
      "[CV] ................. C=10, kernel=poly, max_iter=3000, total=   0.5s\n",
      "[CV] C=10, kernel=poly, max_iter=4000 ................................\n",
      "[CV] ................. C=10, kernel=poly, max_iter=4000, total=   0.5s\n",
      "[CV] C=10, kernel=poly, max_iter=4000 ................................\n",
      "[CV] ................. C=10, kernel=poly, max_iter=4000, total=   0.4s\n",
      "[CV] C=10, kernel=poly, max_iter=4000 ................................\n",
      "[CV] ................. C=10, kernel=poly, max_iter=4000, total=   0.4s\n",
      "[CV] C=10, kernel=poly, max_iter=4000 ................................\n",
      "[CV] ................. C=10, kernel=poly, max_iter=4000, total=   0.5s\n",
      "[CV] C=10, kernel=poly, max_iter=4000 ................................\n",
      "[CV] ................. C=10, kernel=poly, max_iter=4000, total=   0.5s\n",
      "[CV] C=10, kernel=poly, max_iter=5000 ................................\n",
      "[CV] ................. C=10, kernel=poly, max_iter=5000, total=   0.5s\n",
      "[CV] C=10, kernel=poly, max_iter=5000 ................................\n",
      "[CV] ................. C=10, kernel=poly, max_iter=5000, total=   0.4s\n",
      "[CV] C=10, kernel=poly, max_iter=5000 ................................\n",
      "[CV] ................. C=10, kernel=poly, max_iter=5000, total=   0.5s\n",
      "[CV] C=10, kernel=poly, max_iter=5000 ................................\n",
      "[CV] ................. C=10, kernel=poly, max_iter=5000, total=   0.5s\n",
      "[CV] C=10, kernel=poly, max_iter=5000 ................................\n",
      "[CV] ................. C=10, kernel=poly, max_iter=5000, total=   0.5s\n",
      "[CV] C=100, kernel=rbf, max_iter=1000 ................................\n",
      "[CV] ................. C=100, kernel=rbf, max_iter=1000, total=   0.4s\n",
      "[CV] C=100, kernel=rbf, max_iter=1000 ................................\n",
      "[CV] ................. C=100, kernel=rbf, max_iter=1000, total=   0.4s\n",
      "[CV] C=100, kernel=rbf, max_iter=1000 ................................\n",
      "[CV] ................. C=100, kernel=rbf, max_iter=1000, total=   0.4s\n",
      "[CV] C=100, kernel=rbf, max_iter=1000 ................................\n",
      "[CV] ................. C=100, kernel=rbf, max_iter=1000, total=   0.4s\n",
      "[CV] C=100, kernel=rbf, max_iter=1000 ................................\n",
      "[CV] ................. C=100, kernel=rbf, max_iter=1000, total=   0.4s\n",
      "[CV] C=100, kernel=rbf, max_iter=2000 ................................\n",
      "[CV] ................. C=100, kernel=rbf, max_iter=2000, total=   0.4s\n",
      "[CV] C=100, kernel=rbf, max_iter=2000 ................................\n",
      "[CV] ................. C=100, kernel=rbf, max_iter=2000, total=   0.4s\n",
      "[CV] C=100, kernel=rbf, max_iter=2000 ................................\n",
      "[CV] ................. C=100, kernel=rbf, max_iter=2000, total=   0.4s\n",
      "[CV] C=100, kernel=rbf, max_iter=2000 ................................\n",
      "[CV] ................. C=100, kernel=rbf, max_iter=2000, total=   0.4s\n",
      "[CV] C=100, kernel=rbf, max_iter=2000 ................................\n",
      "[CV] ................. C=100, kernel=rbf, max_iter=2000, total=   0.4s\n",
      "[CV] C=100, kernel=rbf, max_iter=3000 ................................\n",
      "[CV] ................. C=100, kernel=rbf, max_iter=3000, total=   0.4s\n",
      "[CV] C=100, kernel=rbf, max_iter=3000 ................................\n",
      "[CV] ................. C=100, kernel=rbf, max_iter=3000, total=   0.4s\n",
      "[CV] C=100, kernel=rbf, max_iter=3000 ................................\n",
      "[CV] ................. C=100, kernel=rbf, max_iter=3000, total=   0.4s\n",
      "[CV] C=100, kernel=rbf, max_iter=3000 ................................\n",
      "[CV] ................. C=100, kernel=rbf, max_iter=3000, total=   0.4s\n",
      "[CV] C=100, kernel=rbf, max_iter=3000 ................................\n",
      "[CV] ................. C=100, kernel=rbf, max_iter=3000, total=   0.4s\n",
      "[CV] C=100, kernel=rbf, max_iter=4000 ................................\n",
      "[CV] ................. C=100, kernel=rbf, max_iter=4000, total=   0.4s\n",
      "[CV] C=100, kernel=rbf, max_iter=4000 ................................\n",
      "[CV] ................. C=100, kernel=rbf, max_iter=4000, total=   0.4s\n",
      "[CV] C=100, kernel=rbf, max_iter=4000 ................................\n",
      "[CV] ................. C=100, kernel=rbf, max_iter=4000, total=   0.4s\n",
      "[CV] C=100, kernel=rbf, max_iter=4000 ................................\n",
      "[CV] ................. C=100, kernel=rbf, max_iter=4000, total=   0.4s\n",
      "[CV] C=100, kernel=rbf, max_iter=4000 ................................\n",
      "[CV] ................. C=100, kernel=rbf, max_iter=4000, total=   0.4s\n",
      "[CV] C=100, kernel=rbf, max_iter=5000 ................................\n",
      "[CV] ................. C=100, kernel=rbf, max_iter=5000, total=   0.4s\n",
      "[CV] C=100, kernel=rbf, max_iter=5000 ................................\n",
      "[CV] ................. C=100, kernel=rbf, max_iter=5000, total=   0.4s\n",
      "[CV] C=100, kernel=rbf, max_iter=5000 ................................\n",
      "[CV] ................. C=100, kernel=rbf, max_iter=5000, total=   0.4s\n",
      "[CV] C=100, kernel=rbf, max_iter=5000 ................................\n",
      "[CV] ................. C=100, kernel=rbf, max_iter=5000, total=   0.4s\n",
      "[CV] C=100, kernel=rbf, max_iter=5000 ................................\n",
      "[CV] ................. C=100, kernel=rbf, max_iter=5000, total=   0.4s\n",
      "[CV] C=100, kernel=poly, max_iter=1000 ...............................\n"
     ]
    },
    {
     "name": "stderr",
     "output_type": "stream",
     "text": [
      "/usr/local/lib/python3.7/dist-packages/sklearn/svm/base.py:241: ConvergenceWarning: Solver terminated early (max_iter=1000).  Consider pre-processing your data with StandardScaler or MinMaxScaler.\n",
      "  % self.max_iter, ConvergenceWarning)\n"
     ]
    },
    {
     "name": "stdout",
     "output_type": "stream",
     "text": [
      "[CV] ................ C=100, kernel=poly, max_iter=1000, total=   0.4s\n",
      "[CV] C=100, kernel=poly, max_iter=1000 ...............................\n"
     ]
    },
    {
     "name": "stderr",
     "output_type": "stream",
     "text": [
      "/usr/local/lib/python3.7/dist-packages/sklearn/svm/base.py:241: ConvergenceWarning: Solver terminated early (max_iter=1000).  Consider pre-processing your data with StandardScaler or MinMaxScaler.\n",
      "  % self.max_iter, ConvergenceWarning)\n"
     ]
    },
    {
     "name": "stdout",
     "output_type": "stream",
     "text": [
      "[CV] ................ C=100, kernel=poly, max_iter=1000, total=   0.4s\n",
      "[CV] C=100, kernel=poly, max_iter=1000 ...............................\n"
     ]
    },
    {
     "name": "stderr",
     "output_type": "stream",
     "text": [
      "/usr/local/lib/python3.7/dist-packages/sklearn/svm/base.py:241: ConvergenceWarning: Solver terminated early (max_iter=1000).  Consider pre-processing your data with StandardScaler or MinMaxScaler.\n",
      "  % self.max_iter, ConvergenceWarning)\n"
     ]
    },
    {
     "name": "stdout",
     "output_type": "stream",
     "text": [
      "[CV] ................ C=100, kernel=poly, max_iter=1000, total=   0.4s\n",
      "[CV] C=100, kernel=poly, max_iter=1000 ...............................\n"
     ]
    },
    {
     "name": "stderr",
     "output_type": "stream",
     "text": [
      "/usr/local/lib/python3.7/dist-packages/sklearn/svm/base.py:241: ConvergenceWarning: Solver terminated early (max_iter=1000).  Consider pre-processing your data with StandardScaler or MinMaxScaler.\n",
      "  % self.max_iter, ConvergenceWarning)\n"
     ]
    },
    {
     "name": "stdout",
     "output_type": "stream",
     "text": [
      "[CV] ................ C=100, kernel=poly, max_iter=1000, total=   0.4s\n",
      "[CV] C=100, kernel=poly, max_iter=1000 ...............................\n"
     ]
    },
    {
     "name": "stderr",
     "output_type": "stream",
     "text": [
      "/usr/local/lib/python3.7/dist-packages/sklearn/svm/base.py:241: ConvergenceWarning: Solver terminated early (max_iter=1000).  Consider pre-processing your data with StandardScaler or MinMaxScaler.\n",
      "  % self.max_iter, ConvergenceWarning)\n"
     ]
    },
    {
     "name": "stdout",
     "output_type": "stream",
     "text": [
      "[CV] ................ C=100, kernel=poly, max_iter=1000, total=   0.4s\n",
      "[CV] C=100, kernel=poly, max_iter=2000 ...............................\n"
     ]
    },
    {
     "name": "stderr",
     "output_type": "stream",
     "text": [
      "/usr/local/lib/python3.7/dist-packages/sklearn/svm/base.py:241: ConvergenceWarning: Solver terminated early (max_iter=2000).  Consider pre-processing your data with StandardScaler or MinMaxScaler.\n",
      "  % self.max_iter, ConvergenceWarning)\n"
     ]
    },
    {
     "name": "stdout",
     "output_type": "stream",
     "text": [
      "[CV] ................ C=100, kernel=poly, max_iter=2000, total=   0.4s\n",
      "[CV] C=100, kernel=poly, max_iter=2000 ...............................\n"
     ]
    },
    {
     "name": "stderr",
     "output_type": "stream",
     "text": [
      "/usr/local/lib/python3.7/dist-packages/sklearn/svm/base.py:241: ConvergenceWarning: Solver terminated early (max_iter=2000).  Consider pre-processing your data with StandardScaler or MinMaxScaler.\n",
      "  % self.max_iter, ConvergenceWarning)\n"
     ]
    },
    {
     "name": "stdout",
     "output_type": "stream",
     "text": [
      "[CV] ................ C=100, kernel=poly, max_iter=2000, total=   0.4s\n",
      "[CV] C=100, kernel=poly, max_iter=2000 ...............................\n"
     ]
    },
    {
     "name": "stderr",
     "output_type": "stream",
     "text": [
      "/usr/local/lib/python3.7/dist-packages/sklearn/svm/base.py:241: ConvergenceWarning: Solver terminated early (max_iter=2000).  Consider pre-processing your data with StandardScaler or MinMaxScaler.\n",
      "  % self.max_iter, ConvergenceWarning)\n"
     ]
    },
    {
     "name": "stdout",
     "output_type": "stream",
     "text": [
      "[CV] ................ C=100, kernel=poly, max_iter=2000, total=   0.4s\n",
      "[CV] C=100, kernel=poly, max_iter=2000 ...............................\n"
     ]
    },
    {
     "name": "stderr",
     "output_type": "stream",
     "text": [
      "/usr/local/lib/python3.7/dist-packages/sklearn/svm/base.py:241: ConvergenceWarning: Solver terminated early (max_iter=2000).  Consider pre-processing your data with StandardScaler or MinMaxScaler.\n",
      "  % self.max_iter, ConvergenceWarning)\n"
     ]
    },
    {
     "name": "stdout",
     "output_type": "stream",
     "text": [
      "[CV] ................ C=100, kernel=poly, max_iter=2000, total=   0.4s\n",
      "[CV] C=100, kernel=poly, max_iter=2000 ...............................\n"
     ]
    },
    {
     "name": "stderr",
     "output_type": "stream",
     "text": [
      "/usr/local/lib/python3.7/dist-packages/sklearn/svm/base.py:241: ConvergenceWarning: Solver terminated early (max_iter=2000).  Consider pre-processing your data with StandardScaler or MinMaxScaler.\n",
      "  % self.max_iter, ConvergenceWarning)\n"
     ]
    },
    {
     "name": "stdout",
     "output_type": "stream",
     "text": [
      "[CV] ................ C=100, kernel=poly, max_iter=2000, total=   0.4s\n",
      "[CV] C=100, kernel=poly, max_iter=3000 ...............................\n",
      "[CV] ................ C=100, kernel=poly, max_iter=3000, total=   0.4s\n",
      "[CV] C=100, kernel=poly, max_iter=3000 ...............................\n",
      "[CV] ................ C=100, kernel=poly, max_iter=3000, total=   0.4s\n",
      "[CV] C=100, kernel=poly, max_iter=3000 ...............................\n",
      "[CV] ................ C=100, kernel=poly, max_iter=3000, total=   0.4s\n",
      "[CV] C=100, kernel=poly, max_iter=3000 ...............................\n"
     ]
    },
    {
     "name": "stderr",
     "output_type": "stream",
     "text": [
      "/usr/local/lib/python3.7/dist-packages/sklearn/svm/base.py:241: ConvergenceWarning: Solver terminated early (max_iter=3000).  Consider pre-processing your data with StandardScaler or MinMaxScaler.\n",
      "  % self.max_iter, ConvergenceWarning)\n"
     ]
    },
    {
     "name": "stdout",
     "output_type": "stream",
     "text": [
      "[CV] ................ C=100, kernel=poly, max_iter=3000, total=   0.4s\n",
      "[CV] C=100, kernel=poly, max_iter=3000 ...............................\n",
      "[CV] ................ C=100, kernel=poly, max_iter=3000, total=   0.4s\n",
      "[CV] C=100, kernel=poly, max_iter=4000 ...............................\n",
      "[CV] ................ C=100, kernel=poly, max_iter=4000, total=   0.4s\n",
      "[CV] C=100, kernel=poly, max_iter=4000 ...............................\n",
      "[CV] ................ C=100, kernel=poly, max_iter=4000, total=   0.4s\n",
      "[CV] C=100, kernel=poly, max_iter=4000 ...............................\n",
      "[CV] ................ C=100, kernel=poly, max_iter=4000, total=   0.4s\n",
      "[CV] C=100, kernel=poly, max_iter=4000 ...............................\n"
     ]
    },
    {
     "name": "stderr",
     "output_type": "stream",
     "text": [
      "/usr/local/lib/python3.7/dist-packages/sklearn/svm/base.py:241: ConvergenceWarning: Solver terminated early (max_iter=4000).  Consider pre-processing your data with StandardScaler or MinMaxScaler.\n",
      "  % self.max_iter, ConvergenceWarning)\n"
     ]
    },
    {
     "name": "stdout",
     "output_type": "stream",
     "text": [
      "[CV] ................ C=100, kernel=poly, max_iter=4000, total=   0.4s\n",
      "[CV] C=100, kernel=poly, max_iter=4000 ...............................\n",
      "[CV] ................ C=100, kernel=poly, max_iter=4000, total=   0.4s\n",
      "[CV] C=100, kernel=poly, max_iter=5000 ...............................\n",
      "[CV] ................ C=100, kernel=poly, max_iter=5000, total=   0.4s\n",
      "[CV] C=100, kernel=poly, max_iter=5000 ...............................\n",
      "[CV] ................ C=100, kernel=poly, max_iter=5000, total=   0.4s\n",
      "[CV] C=100, kernel=poly, max_iter=5000 ...............................\n",
      "[CV] ................ C=100, kernel=poly, max_iter=5000, total=   0.4s\n",
      "[CV] C=100, kernel=poly, max_iter=5000 ...............................\n",
      "[CV] ................ C=100, kernel=poly, max_iter=5000, total=   0.4s\n",
      "[CV] C=100, kernel=poly, max_iter=5000 ...............................\n",
      "[CV] ................ C=100, kernel=poly, max_iter=5000, total=   0.4s\n",
      "[CV] C=1000, kernel=rbf, max_iter=1000 ...............................\n",
      "[CV] ................ C=1000, kernel=rbf, max_iter=1000, total=   0.4s\n",
      "[CV] C=1000, kernel=rbf, max_iter=1000 ...............................\n"
     ]
    },
    {
     "name": "stderr",
     "output_type": "stream",
     "text": [
      "/usr/local/lib/python3.7/dist-packages/sklearn/svm/base.py:241: ConvergenceWarning: Solver terminated early (max_iter=1000).  Consider pre-processing your data with StandardScaler or MinMaxScaler.\n",
      "  % self.max_iter, ConvergenceWarning)\n"
     ]
    },
    {
     "name": "stdout",
     "output_type": "stream",
     "text": [
      "[CV] ................ C=1000, kernel=rbf, max_iter=1000, total=   0.4s\n",
      "[CV] C=1000, kernel=rbf, max_iter=1000 ...............................\n"
     ]
    },
    {
     "name": "stderr",
     "output_type": "stream",
     "text": [
      "/usr/local/lib/python3.7/dist-packages/sklearn/svm/base.py:241: ConvergenceWarning: Solver terminated early (max_iter=1000).  Consider pre-processing your data with StandardScaler or MinMaxScaler.\n",
      "  % self.max_iter, ConvergenceWarning)\n"
     ]
    },
    {
     "name": "stdout",
     "output_type": "stream",
     "text": [
      "[CV] ................ C=1000, kernel=rbf, max_iter=1000, total=   0.4s\n",
      "[CV] C=1000, kernel=rbf, max_iter=1000 ...............................\n"
     ]
    },
    {
     "name": "stderr",
     "output_type": "stream",
     "text": [
      "/usr/local/lib/python3.7/dist-packages/sklearn/svm/base.py:241: ConvergenceWarning: Solver terminated early (max_iter=1000).  Consider pre-processing your data with StandardScaler or MinMaxScaler.\n",
      "  % self.max_iter, ConvergenceWarning)\n"
     ]
    },
    {
     "name": "stdout",
     "output_type": "stream",
     "text": [
      "[CV] ................ C=1000, kernel=rbf, max_iter=1000, total=   0.4s\n",
      "[CV] C=1000, kernel=rbf, max_iter=1000 ...............................\n"
     ]
    },
    {
     "name": "stderr",
     "output_type": "stream",
     "text": [
      "/usr/local/lib/python3.7/dist-packages/sklearn/svm/base.py:241: ConvergenceWarning: Solver terminated early (max_iter=1000).  Consider pre-processing your data with StandardScaler or MinMaxScaler.\n",
      "  % self.max_iter, ConvergenceWarning)\n"
     ]
    },
    {
     "name": "stdout",
     "output_type": "stream",
     "text": [
      "[CV] ................ C=1000, kernel=rbf, max_iter=1000, total=   0.4s\n",
      "[CV] C=1000, kernel=rbf, max_iter=2000 ...............................\n",
      "[CV] ................ C=1000, kernel=rbf, max_iter=2000, total=   0.4s\n",
      "[CV] C=1000, kernel=rbf, max_iter=2000 ...............................\n",
      "[CV] ................ C=1000, kernel=rbf, max_iter=2000, total=   0.4s\n",
      "[CV] C=1000, kernel=rbf, max_iter=2000 ...............................\n",
      "[CV] ................ C=1000, kernel=rbf, max_iter=2000, total=   0.4s\n",
      "[CV] C=1000, kernel=rbf, max_iter=2000 ...............................\n",
      "[CV] ................ C=1000, kernel=rbf, max_iter=2000, total=   0.4s\n",
      "[CV] C=1000, kernel=rbf, max_iter=2000 ...............................\n",
      "[CV] ................ C=1000, kernel=rbf, max_iter=2000, total=   0.4s\n",
      "[CV] C=1000, kernel=rbf, max_iter=3000 ...............................\n",
      "[CV] ................ C=1000, kernel=rbf, max_iter=3000, total=   0.4s\n",
      "[CV] C=1000, kernel=rbf, max_iter=3000 ...............................\n",
      "[CV] ................ C=1000, kernel=rbf, max_iter=3000, total=   0.4s\n",
      "[CV] C=1000, kernel=rbf, max_iter=3000 ...............................\n",
      "[CV] ................ C=1000, kernel=rbf, max_iter=3000, total=   0.4s\n",
      "[CV] C=1000, kernel=rbf, max_iter=3000 ...............................\n",
      "[CV] ................ C=1000, kernel=rbf, max_iter=3000, total=   0.4s\n",
      "[CV] C=1000, kernel=rbf, max_iter=3000 ...............................\n",
      "[CV] ................ C=1000, kernel=rbf, max_iter=3000, total=   0.4s\n",
      "[CV] C=1000, kernel=rbf, max_iter=4000 ...............................\n",
      "[CV] ................ C=1000, kernel=rbf, max_iter=4000, total=   0.4s\n",
      "[CV] C=1000, kernel=rbf, max_iter=4000 ...............................\n",
      "[CV] ................ C=1000, kernel=rbf, max_iter=4000, total=   0.4s\n",
      "[CV] C=1000, kernel=rbf, max_iter=4000 ...............................\n",
      "[CV] ................ C=1000, kernel=rbf, max_iter=4000, total=   0.4s\n",
      "[CV] C=1000, kernel=rbf, max_iter=4000 ...............................\n",
      "[CV] ................ C=1000, kernel=rbf, max_iter=4000, total=   0.4s\n",
      "[CV] C=1000, kernel=rbf, max_iter=4000 ...............................\n",
      "[CV] ................ C=1000, kernel=rbf, max_iter=4000, total=   0.4s\n",
      "[CV] C=1000, kernel=rbf, max_iter=5000 ...............................\n",
      "[CV] ................ C=1000, kernel=rbf, max_iter=5000, total=   0.4s\n",
      "[CV] C=1000, kernel=rbf, max_iter=5000 ...............................\n",
      "[CV] ................ C=1000, kernel=rbf, max_iter=5000, total=   0.4s\n",
      "[CV] C=1000, kernel=rbf, max_iter=5000 ...............................\n",
      "[CV] ................ C=1000, kernel=rbf, max_iter=5000, total=   0.4s\n",
      "[CV] C=1000, kernel=rbf, max_iter=5000 ...............................\n",
      "[CV] ................ C=1000, kernel=rbf, max_iter=5000, total=   0.4s\n",
      "[CV] C=1000, kernel=rbf, max_iter=5000 ...............................\n",
      "[CV] ................ C=1000, kernel=rbf, max_iter=5000, total=   0.4s\n",
      "[CV] C=1000, kernel=poly, max_iter=1000 ..............................\n"
     ]
    },
    {
     "name": "stderr",
     "output_type": "stream",
     "text": [
      "/usr/local/lib/python3.7/dist-packages/sklearn/svm/base.py:241: ConvergenceWarning: Solver terminated early (max_iter=1000).  Consider pre-processing your data with StandardScaler or MinMaxScaler.\n",
      "  % self.max_iter, ConvergenceWarning)\n"
     ]
    },
    {
     "name": "stdout",
     "output_type": "stream",
     "text": [
      "[CV] ............... C=1000, kernel=poly, max_iter=1000, total=   0.3s\n",
      "[CV] C=1000, kernel=poly, max_iter=1000 ..............................\n"
     ]
    },
    {
     "name": "stderr",
     "output_type": "stream",
     "text": [
      "/usr/local/lib/python3.7/dist-packages/sklearn/svm/base.py:241: ConvergenceWarning: Solver terminated early (max_iter=1000).  Consider pre-processing your data with StandardScaler or MinMaxScaler.\n",
      "  % self.max_iter, ConvergenceWarning)\n"
     ]
    },
    {
     "name": "stdout",
     "output_type": "stream",
     "text": [
      "[CV] ............... C=1000, kernel=poly, max_iter=1000, total=   0.3s\n",
      "[CV] C=1000, kernel=poly, max_iter=1000 ..............................\n"
     ]
    },
    {
     "name": "stderr",
     "output_type": "stream",
     "text": [
      "/usr/local/lib/python3.7/dist-packages/sklearn/svm/base.py:241: ConvergenceWarning: Solver terminated early (max_iter=1000).  Consider pre-processing your data with StandardScaler or MinMaxScaler.\n",
      "  % self.max_iter, ConvergenceWarning)\n"
     ]
    },
    {
     "name": "stdout",
     "output_type": "stream",
     "text": [
      "[CV] ............... C=1000, kernel=poly, max_iter=1000, total=   0.3s\n",
      "[CV] C=1000, kernel=poly, max_iter=1000 ..............................\n"
     ]
    },
    {
     "name": "stderr",
     "output_type": "stream",
     "text": [
      "/usr/local/lib/python3.7/dist-packages/sklearn/svm/base.py:241: ConvergenceWarning: Solver terminated early (max_iter=1000).  Consider pre-processing your data with StandardScaler or MinMaxScaler.\n",
      "  % self.max_iter, ConvergenceWarning)\n"
     ]
    },
    {
     "name": "stdout",
     "output_type": "stream",
     "text": [
      "[CV] ............... C=1000, kernel=poly, max_iter=1000, total=   0.3s\n",
      "[CV] C=1000, kernel=poly, max_iter=1000 ..............................\n"
     ]
    },
    {
     "name": "stderr",
     "output_type": "stream",
     "text": [
      "/usr/local/lib/python3.7/dist-packages/sklearn/svm/base.py:241: ConvergenceWarning: Solver terminated early (max_iter=1000).  Consider pre-processing your data with StandardScaler or MinMaxScaler.\n",
      "  % self.max_iter, ConvergenceWarning)\n"
     ]
    },
    {
     "name": "stdout",
     "output_type": "stream",
     "text": [
      "[CV] ............... C=1000, kernel=poly, max_iter=1000, total=   0.4s\n",
      "[CV] C=1000, kernel=poly, max_iter=2000 ..............................\n"
     ]
    },
    {
     "name": "stderr",
     "output_type": "stream",
     "text": [
      "/usr/local/lib/python3.7/dist-packages/sklearn/svm/base.py:241: ConvergenceWarning: Solver terminated early (max_iter=2000).  Consider pre-processing your data with StandardScaler or MinMaxScaler.\n",
      "  % self.max_iter, ConvergenceWarning)\n"
     ]
    },
    {
     "name": "stdout",
     "output_type": "stream",
     "text": [
      "[CV] ............... C=1000, kernel=poly, max_iter=2000, total=   0.3s\n",
      "[CV] C=1000, kernel=poly, max_iter=2000 ..............................\n"
     ]
    },
    {
     "name": "stderr",
     "output_type": "stream",
     "text": [
      "/usr/local/lib/python3.7/dist-packages/sklearn/svm/base.py:241: ConvergenceWarning: Solver terminated early (max_iter=2000).  Consider pre-processing your data with StandardScaler or MinMaxScaler.\n",
      "  % self.max_iter, ConvergenceWarning)\n"
     ]
    },
    {
     "name": "stdout",
     "output_type": "stream",
     "text": [
      "[CV] ............... C=1000, kernel=poly, max_iter=2000, total=   0.3s\n",
      "[CV] C=1000, kernel=poly, max_iter=2000 ..............................\n"
     ]
    },
    {
     "name": "stderr",
     "output_type": "stream",
     "text": [
      "/usr/local/lib/python3.7/dist-packages/sklearn/svm/base.py:241: ConvergenceWarning: Solver terminated early (max_iter=2000).  Consider pre-processing your data with StandardScaler or MinMaxScaler.\n",
      "  % self.max_iter, ConvergenceWarning)\n"
     ]
    },
    {
     "name": "stdout",
     "output_type": "stream",
     "text": [
      "[CV] ............... C=1000, kernel=poly, max_iter=2000, total=   0.4s\n",
      "[CV] C=1000, kernel=poly, max_iter=2000 ..............................\n"
     ]
    },
    {
     "name": "stderr",
     "output_type": "stream",
     "text": [
      "/usr/local/lib/python3.7/dist-packages/sklearn/svm/base.py:241: ConvergenceWarning: Solver terminated early (max_iter=2000).  Consider pre-processing your data with StandardScaler or MinMaxScaler.\n",
      "  % self.max_iter, ConvergenceWarning)\n"
     ]
    },
    {
     "name": "stdout",
     "output_type": "stream",
     "text": [
      "[CV] ............... C=1000, kernel=poly, max_iter=2000, total=   0.3s\n",
      "[CV] C=1000, kernel=poly, max_iter=2000 ..............................\n"
     ]
    },
    {
     "name": "stderr",
     "output_type": "stream",
     "text": [
      "/usr/local/lib/python3.7/dist-packages/sklearn/svm/base.py:241: ConvergenceWarning: Solver terminated early (max_iter=2000).  Consider pre-processing your data with StandardScaler or MinMaxScaler.\n",
      "  % self.max_iter, ConvergenceWarning)\n"
     ]
    },
    {
     "name": "stdout",
     "output_type": "stream",
     "text": [
      "[CV] ............... C=1000, kernel=poly, max_iter=2000, total=   0.4s\n",
      "[CV] C=1000, kernel=poly, max_iter=3000 ..............................\n"
     ]
    },
    {
     "name": "stderr",
     "output_type": "stream",
     "text": [
      "/usr/local/lib/python3.7/dist-packages/sklearn/svm/base.py:241: ConvergenceWarning: Solver terminated early (max_iter=3000).  Consider pre-processing your data with StandardScaler or MinMaxScaler.\n",
      "  % self.max_iter, ConvergenceWarning)\n"
     ]
    },
    {
     "name": "stdout",
     "output_type": "stream",
     "text": [
      "[CV] ............... C=1000, kernel=poly, max_iter=3000, total=   0.3s\n",
      "[CV] C=1000, kernel=poly, max_iter=3000 ..............................\n"
     ]
    },
    {
     "name": "stderr",
     "output_type": "stream",
     "text": [
      "/usr/local/lib/python3.7/dist-packages/sklearn/svm/base.py:241: ConvergenceWarning: Solver terminated early (max_iter=3000).  Consider pre-processing your data with StandardScaler or MinMaxScaler.\n",
      "  % self.max_iter, ConvergenceWarning)\n"
     ]
    },
    {
     "name": "stdout",
     "output_type": "stream",
     "text": [
      "[CV] ............... C=1000, kernel=poly, max_iter=3000, total=   0.3s\n",
      "[CV] C=1000, kernel=poly, max_iter=3000 ..............................\n"
     ]
    },
    {
     "name": "stderr",
     "output_type": "stream",
     "text": [
      "/usr/local/lib/python3.7/dist-packages/sklearn/svm/base.py:241: ConvergenceWarning: Solver terminated early (max_iter=3000).  Consider pre-processing your data with StandardScaler or MinMaxScaler.\n",
      "  % self.max_iter, ConvergenceWarning)\n"
     ]
    },
    {
     "name": "stdout",
     "output_type": "stream",
     "text": [
      "[CV] ............... C=1000, kernel=poly, max_iter=3000, total=   0.3s\n",
      "[CV] C=1000, kernel=poly, max_iter=3000 ..............................\n"
     ]
    },
    {
     "name": "stderr",
     "output_type": "stream",
     "text": [
      "/usr/local/lib/python3.7/dist-packages/sklearn/svm/base.py:241: ConvergenceWarning: Solver terminated early (max_iter=3000).  Consider pre-processing your data with StandardScaler or MinMaxScaler.\n",
      "  % self.max_iter, ConvergenceWarning)\n"
     ]
    },
    {
     "name": "stdout",
     "output_type": "stream",
     "text": [
      "[CV] ............... C=1000, kernel=poly, max_iter=3000, total=   0.4s\n",
      "[CV] C=1000, kernel=poly, max_iter=3000 ..............................\n"
     ]
    },
    {
     "name": "stderr",
     "output_type": "stream",
     "text": [
      "/usr/local/lib/python3.7/dist-packages/sklearn/svm/base.py:241: ConvergenceWarning: Solver terminated early (max_iter=3000).  Consider pre-processing your data with StandardScaler or MinMaxScaler.\n",
      "  % self.max_iter, ConvergenceWarning)\n"
     ]
    },
    {
     "name": "stdout",
     "output_type": "stream",
     "text": [
      "[CV] ............... C=1000, kernel=poly, max_iter=3000, total=   0.4s\n",
      "[CV] C=1000, kernel=poly, max_iter=4000 ..............................\n"
     ]
    },
    {
     "name": "stderr",
     "output_type": "stream",
     "text": [
      "/usr/local/lib/python3.7/dist-packages/sklearn/svm/base.py:241: ConvergenceWarning: Solver terminated early (max_iter=4000).  Consider pre-processing your data with StandardScaler or MinMaxScaler.\n",
      "  % self.max_iter, ConvergenceWarning)\n"
     ]
    },
    {
     "name": "stdout",
     "output_type": "stream",
     "text": [
      "[CV] ............... C=1000, kernel=poly, max_iter=4000, total=   0.4s\n",
      "[CV] C=1000, kernel=poly, max_iter=4000 ..............................\n"
     ]
    },
    {
     "name": "stderr",
     "output_type": "stream",
     "text": [
      "/usr/local/lib/python3.7/dist-packages/sklearn/svm/base.py:241: ConvergenceWarning: Solver terminated early (max_iter=4000).  Consider pre-processing your data with StandardScaler or MinMaxScaler.\n",
      "  % self.max_iter, ConvergenceWarning)\n"
     ]
    },
    {
     "name": "stdout",
     "output_type": "stream",
     "text": [
      "[CV] ............... C=1000, kernel=poly, max_iter=4000, total=   0.3s\n",
      "[CV] C=1000, kernel=poly, max_iter=4000 ..............................\n"
     ]
    },
    {
     "name": "stderr",
     "output_type": "stream",
     "text": [
      "/usr/local/lib/python3.7/dist-packages/sklearn/svm/base.py:241: ConvergenceWarning: Solver terminated early (max_iter=4000).  Consider pre-processing your data with StandardScaler or MinMaxScaler.\n",
      "  % self.max_iter, ConvergenceWarning)\n"
     ]
    },
    {
     "name": "stdout",
     "output_type": "stream",
     "text": [
      "[CV] ............... C=1000, kernel=poly, max_iter=4000, total=   0.4s\n",
      "[CV] C=1000, kernel=poly, max_iter=4000 ..............................\n"
     ]
    },
    {
     "name": "stderr",
     "output_type": "stream",
     "text": [
      "/usr/local/lib/python3.7/dist-packages/sklearn/svm/base.py:241: ConvergenceWarning: Solver terminated early (max_iter=4000).  Consider pre-processing your data with StandardScaler or MinMaxScaler.\n",
      "  % self.max_iter, ConvergenceWarning)\n"
     ]
    },
    {
     "name": "stdout",
     "output_type": "stream",
     "text": [
      "[CV] ............... C=1000, kernel=poly, max_iter=4000, total=   0.3s\n",
      "[CV] C=1000, kernel=poly, max_iter=4000 ..............................\n"
     ]
    },
    {
     "name": "stderr",
     "output_type": "stream",
     "text": [
      "/usr/local/lib/python3.7/dist-packages/sklearn/svm/base.py:241: ConvergenceWarning: Solver terminated early (max_iter=4000).  Consider pre-processing your data with StandardScaler or MinMaxScaler.\n",
      "  % self.max_iter, ConvergenceWarning)\n"
     ]
    },
    {
     "name": "stdout",
     "output_type": "stream",
     "text": [
      "[CV] ............... C=1000, kernel=poly, max_iter=4000, total=   0.4s\n",
      "[CV] C=1000, kernel=poly, max_iter=5000 ..............................\n"
     ]
    },
    {
     "name": "stderr",
     "output_type": "stream",
     "text": [
      "/usr/local/lib/python3.7/dist-packages/sklearn/svm/base.py:241: ConvergenceWarning: Solver terminated early (max_iter=5000).  Consider pre-processing your data with StandardScaler or MinMaxScaler.\n",
      "  % self.max_iter, ConvergenceWarning)\n"
     ]
    },
    {
     "name": "stdout",
     "output_type": "stream",
     "text": [
      "[CV] ............... C=1000, kernel=poly, max_iter=5000, total=   0.4s\n",
      "[CV] C=1000, kernel=poly, max_iter=5000 ..............................\n"
     ]
    },
    {
     "name": "stderr",
     "output_type": "stream",
     "text": [
      "/usr/local/lib/python3.7/dist-packages/sklearn/svm/base.py:241: ConvergenceWarning: Solver terminated early (max_iter=5000).  Consider pre-processing your data with StandardScaler or MinMaxScaler.\n",
      "  % self.max_iter, ConvergenceWarning)\n"
     ]
    },
    {
     "name": "stdout",
     "output_type": "stream",
     "text": [
      "[CV] ............... C=1000, kernel=poly, max_iter=5000, total=   0.3s\n",
      "[CV] C=1000, kernel=poly, max_iter=5000 ..............................\n"
     ]
    },
    {
     "name": "stderr",
     "output_type": "stream",
     "text": [
      "/usr/local/lib/python3.7/dist-packages/sklearn/svm/base.py:241: ConvergenceWarning: Solver terminated early (max_iter=5000).  Consider pre-processing your data with StandardScaler or MinMaxScaler.\n",
      "  % self.max_iter, ConvergenceWarning)\n"
     ]
    },
    {
     "name": "stdout",
     "output_type": "stream",
     "text": [
      "[CV] ............... C=1000, kernel=poly, max_iter=5000, total=   0.4s\n",
      "[CV] C=1000, kernel=poly, max_iter=5000 ..............................\n"
     ]
    },
    {
     "name": "stderr",
     "output_type": "stream",
     "text": [
      "/usr/local/lib/python3.7/dist-packages/sklearn/svm/base.py:241: ConvergenceWarning: Solver terminated early (max_iter=5000).  Consider pre-processing your data with StandardScaler or MinMaxScaler.\n",
      "  % self.max_iter, ConvergenceWarning)\n"
     ]
    },
    {
     "name": "stdout",
     "output_type": "stream",
     "text": [
      "[CV] ............... C=1000, kernel=poly, max_iter=5000, total=   0.4s\n",
      "[CV] C=1000, kernel=poly, max_iter=5000 ..............................\n"
     ]
    },
    {
     "name": "stderr",
     "output_type": "stream",
     "text": [
      "/usr/local/lib/python3.7/dist-packages/sklearn/svm/base.py:241: ConvergenceWarning: Solver terminated early (max_iter=5000).  Consider pre-processing your data with StandardScaler or MinMaxScaler.\n",
      "  % self.max_iter, ConvergenceWarning)\n"
     ]
    },
    {
     "name": "stdout",
     "output_type": "stream",
     "text": [
      "[CV] ............... C=1000, kernel=poly, max_iter=5000, total=   0.4s\n",
      "[CV] C=2000, kernel=rbf, max_iter=1000 ...............................\n",
      "[CV] ................ C=2000, kernel=rbf, max_iter=1000, total=   0.4s\n",
      "[CV] C=2000, kernel=rbf, max_iter=1000 ...............................\n"
     ]
    },
    {
     "name": "stderr",
     "output_type": "stream",
     "text": [
      "/usr/local/lib/python3.7/dist-packages/sklearn/svm/base.py:241: ConvergenceWarning: Solver terminated early (max_iter=1000).  Consider pre-processing your data with StandardScaler or MinMaxScaler.\n",
      "  % self.max_iter, ConvergenceWarning)\n"
     ]
    },
    {
     "name": "stdout",
     "output_type": "stream",
     "text": [
      "[CV] ................ C=2000, kernel=rbf, max_iter=1000, total=   0.4s\n",
      "[CV] C=2000, kernel=rbf, max_iter=1000 ...............................\n"
     ]
    },
    {
     "name": "stderr",
     "output_type": "stream",
     "text": [
      "/usr/local/lib/python3.7/dist-packages/sklearn/svm/base.py:241: ConvergenceWarning: Solver terminated early (max_iter=1000).  Consider pre-processing your data with StandardScaler or MinMaxScaler.\n",
      "  % self.max_iter, ConvergenceWarning)\n"
     ]
    },
    {
     "name": "stdout",
     "output_type": "stream",
     "text": [
      "[CV] ................ C=2000, kernel=rbf, max_iter=1000, total=   0.4s\n",
      "[CV] C=2000, kernel=rbf, max_iter=1000 ...............................\n"
     ]
    },
    {
     "name": "stderr",
     "output_type": "stream",
     "text": [
      "/usr/local/lib/python3.7/dist-packages/sklearn/svm/base.py:241: ConvergenceWarning: Solver terminated early (max_iter=1000).  Consider pre-processing your data with StandardScaler or MinMaxScaler.\n",
      "  % self.max_iter, ConvergenceWarning)\n"
     ]
    },
    {
     "name": "stdout",
     "output_type": "stream",
     "text": [
      "[CV] ................ C=2000, kernel=rbf, max_iter=1000, total=   0.4s\n",
      "[CV] C=2000, kernel=rbf, max_iter=1000 ...............................\n"
     ]
    },
    {
     "name": "stderr",
     "output_type": "stream",
     "text": [
      "/usr/local/lib/python3.7/dist-packages/sklearn/svm/base.py:241: ConvergenceWarning: Solver terminated early (max_iter=1000).  Consider pre-processing your data with StandardScaler or MinMaxScaler.\n",
      "  % self.max_iter, ConvergenceWarning)\n"
     ]
    },
    {
     "name": "stdout",
     "output_type": "stream",
     "text": [
      "[CV] ................ C=2000, kernel=rbf, max_iter=1000, total=   0.4s\n",
      "[CV] C=2000, kernel=rbf, max_iter=2000 ...............................\n",
      "[CV] ................ C=2000, kernel=rbf, max_iter=2000, total=   0.4s\n",
      "[CV] C=2000, kernel=rbf, max_iter=2000 ...............................\n",
      "[CV] ................ C=2000, kernel=rbf, max_iter=2000, total=   0.4s\n",
      "[CV] C=2000, kernel=rbf, max_iter=2000 ...............................\n",
      "[CV] ................ C=2000, kernel=rbf, max_iter=2000, total=   0.4s\n",
      "[CV] C=2000, kernel=rbf, max_iter=2000 ...............................\n",
      "[CV] ................ C=2000, kernel=rbf, max_iter=2000, total=   0.4s\n",
      "[CV] C=2000, kernel=rbf, max_iter=2000 ...............................\n",
      "[CV] ................ C=2000, kernel=rbf, max_iter=2000, total=   0.4s\n",
      "[CV] C=2000, kernel=rbf, max_iter=3000 ...............................\n",
      "[CV] ................ C=2000, kernel=rbf, max_iter=3000, total=   0.4s\n",
      "[CV] C=2000, kernel=rbf, max_iter=3000 ...............................\n",
      "[CV] ................ C=2000, kernel=rbf, max_iter=3000, total=   0.4s\n",
      "[CV] C=2000, kernel=rbf, max_iter=3000 ...............................\n",
      "[CV] ................ C=2000, kernel=rbf, max_iter=3000, total=   0.4s\n",
      "[CV] C=2000, kernel=rbf, max_iter=3000 ...............................\n",
      "[CV] ................ C=2000, kernel=rbf, max_iter=3000, total=   0.4s\n",
      "[CV] C=2000, kernel=rbf, max_iter=3000 ...............................\n",
      "[CV] ................ C=2000, kernel=rbf, max_iter=3000, total=   0.4s\n",
      "[CV] C=2000, kernel=rbf, max_iter=4000 ...............................\n",
      "[CV] ................ C=2000, kernel=rbf, max_iter=4000, total=   0.4s\n",
      "[CV] C=2000, kernel=rbf, max_iter=4000 ...............................\n",
      "[CV] ................ C=2000, kernel=rbf, max_iter=4000, total=   0.4s\n",
      "[CV] C=2000, kernel=rbf, max_iter=4000 ...............................\n",
      "[CV] ................ C=2000, kernel=rbf, max_iter=4000, total=   0.4s\n",
      "[CV] C=2000, kernel=rbf, max_iter=4000 ...............................\n",
      "[CV] ................ C=2000, kernel=rbf, max_iter=4000, total=   0.4s\n",
      "[CV] C=2000, kernel=rbf, max_iter=4000 ...............................\n",
      "[CV] ................ C=2000, kernel=rbf, max_iter=4000, total=   0.4s\n",
      "[CV] C=2000, kernel=rbf, max_iter=5000 ...............................\n",
      "[CV] ................ C=2000, kernel=rbf, max_iter=5000, total=   0.4s\n",
      "[CV] C=2000, kernel=rbf, max_iter=5000 ...............................\n",
      "[CV] ................ C=2000, kernel=rbf, max_iter=5000, total=   0.4s\n",
      "[CV] C=2000, kernel=rbf, max_iter=5000 ...............................\n",
      "[CV] ................ C=2000, kernel=rbf, max_iter=5000, total=   0.4s\n",
      "[CV] C=2000, kernel=rbf, max_iter=5000 ...............................\n",
      "[CV] ................ C=2000, kernel=rbf, max_iter=5000, total=   0.4s\n",
      "[CV] C=2000, kernel=rbf, max_iter=5000 ...............................\n",
      "[CV] ................ C=2000, kernel=rbf, max_iter=5000, total=   0.4s\n",
      "[CV] C=2000, kernel=poly, max_iter=1000 ..............................\n"
     ]
    },
    {
     "name": "stderr",
     "output_type": "stream",
     "text": [
      "/usr/local/lib/python3.7/dist-packages/sklearn/svm/base.py:241: ConvergenceWarning: Solver terminated early (max_iter=1000).  Consider pre-processing your data with StandardScaler or MinMaxScaler.\n",
      "  % self.max_iter, ConvergenceWarning)\n"
     ]
    },
    {
     "name": "stdout",
     "output_type": "stream",
     "text": [
      "[CV] ............... C=2000, kernel=poly, max_iter=1000, total=   0.3s\n",
      "[CV] C=2000, kernel=poly, max_iter=1000 ..............................\n"
     ]
    },
    {
     "name": "stderr",
     "output_type": "stream",
     "text": [
      "/usr/local/lib/python3.7/dist-packages/sklearn/svm/base.py:241: ConvergenceWarning: Solver terminated early (max_iter=1000).  Consider pre-processing your data with StandardScaler or MinMaxScaler.\n",
      "  % self.max_iter, ConvergenceWarning)\n"
     ]
    },
    {
     "name": "stdout",
     "output_type": "stream",
     "text": [
      "[CV] ............... C=2000, kernel=poly, max_iter=1000, total=   0.3s\n",
      "[CV] C=2000, kernel=poly, max_iter=1000 ..............................\n"
     ]
    },
    {
     "name": "stderr",
     "output_type": "stream",
     "text": [
      "/usr/local/lib/python3.7/dist-packages/sklearn/svm/base.py:241: ConvergenceWarning: Solver terminated early (max_iter=1000).  Consider pre-processing your data with StandardScaler or MinMaxScaler.\n",
      "  % self.max_iter, ConvergenceWarning)\n"
     ]
    },
    {
     "name": "stdout",
     "output_type": "stream",
     "text": [
      "[CV] ............... C=2000, kernel=poly, max_iter=1000, total=   0.3s\n",
      "[CV] C=2000, kernel=poly, max_iter=1000 ..............................\n"
     ]
    },
    {
     "name": "stderr",
     "output_type": "stream",
     "text": [
      "/usr/local/lib/python3.7/dist-packages/sklearn/svm/base.py:241: ConvergenceWarning: Solver terminated early (max_iter=1000).  Consider pre-processing your data with StandardScaler or MinMaxScaler.\n",
      "  % self.max_iter, ConvergenceWarning)\n"
     ]
    },
    {
     "name": "stdout",
     "output_type": "stream",
     "text": [
      "[CV] ............... C=2000, kernel=poly, max_iter=1000, total=   0.3s\n",
      "[CV] C=2000, kernel=poly, max_iter=1000 ..............................\n"
     ]
    },
    {
     "name": "stderr",
     "output_type": "stream",
     "text": [
      "/usr/local/lib/python3.7/dist-packages/sklearn/svm/base.py:241: ConvergenceWarning: Solver terminated early (max_iter=1000).  Consider pre-processing your data with StandardScaler or MinMaxScaler.\n",
      "  % self.max_iter, ConvergenceWarning)\n"
     ]
    },
    {
     "name": "stdout",
     "output_type": "stream",
     "text": [
      "[CV] ............... C=2000, kernel=poly, max_iter=1000, total=   0.3s\n",
      "[CV] C=2000, kernel=poly, max_iter=2000 ..............................\n"
     ]
    },
    {
     "name": "stderr",
     "output_type": "stream",
     "text": [
      "/usr/local/lib/python3.7/dist-packages/sklearn/svm/base.py:241: ConvergenceWarning: Solver terminated early (max_iter=2000).  Consider pre-processing your data with StandardScaler or MinMaxScaler.\n",
      "  % self.max_iter, ConvergenceWarning)\n"
     ]
    },
    {
     "name": "stdout",
     "output_type": "stream",
     "text": [
      "[CV] ............... C=2000, kernel=poly, max_iter=2000, total=   0.3s\n",
      "[CV] C=2000, kernel=poly, max_iter=2000 ..............................\n"
     ]
    },
    {
     "name": "stderr",
     "output_type": "stream",
     "text": [
      "/usr/local/lib/python3.7/dist-packages/sklearn/svm/base.py:241: ConvergenceWarning: Solver terminated early (max_iter=2000).  Consider pre-processing your data with StandardScaler or MinMaxScaler.\n",
      "  % self.max_iter, ConvergenceWarning)\n"
     ]
    },
    {
     "name": "stdout",
     "output_type": "stream",
     "text": [
      "[CV] ............... C=2000, kernel=poly, max_iter=2000, total=   0.3s\n",
      "[CV] C=2000, kernel=poly, max_iter=2000 ..............................\n"
     ]
    },
    {
     "name": "stderr",
     "output_type": "stream",
     "text": [
      "/usr/local/lib/python3.7/dist-packages/sklearn/svm/base.py:241: ConvergenceWarning: Solver terminated early (max_iter=2000).  Consider pre-processing your data with StandardScaler or MinMaxScaler.\n",
      "  % self.max_iter, ConvergenceWarning)\n"
     ]
    },
    {
     "name": "stdout",
     "output_type": "stream",
     "text": [
      "[CV] ............... C=2000, kernel=poly, max_iter=2000, total=   0.3s\n",
      "[CV] C=2000, kernel=poly, max_iter=2000 ..............................\n"
     ]
    },
    {
     "name": "stderr",
     "output_type": "stream",
     "text": [
      "/usr/local/lib/python3.7/dist-packages/sklearn/svm/base.py:241: ConvergenceWarning: Solver terminated early (max_iter=2000).  Consider pre-processing your data with StandardScaler or MinMaxScaler.\n",
      "  % self.max_iter, ConvergenceWarning)\n"
     ]
    },
    {
     "name": "stdout",
     "output_type": "stream",
     "text": [
      "[CV] ............... C=2000, kernel=poly, max_iter=2000, total=   0.3s\n",
      "[CV] C=2000, kernel=poly, max_iter=2000 ..............................\n"
     ]
    },
    {
     "name": "stderr",
     "output_type": "stream",
     "text": [
      "/usr/local/lib/python3.7/dist-packages/sklearn/svm/base.py:241: ConvergenceWarning: Solver terminated early (max_iter=2000).  Consider pre-processing your data with StandardScaler or MinMaxScaler.\n",
      "  % self.max_iter, ConvergenceWarning)\n"
     ]
    },
    {
     "name": "stdout",
     "output_type": "stream",
     "text": [
      "[CV] ............... C=2000, kernel=poly, max_iter=2000, total=   0.3s\n",
      "[CV] C=2000, kernel=poly, max_iter=3000 ..............................\n"
     ]
    },
    {
     "name": "stderr",
     "output_type": "stream",
     "text": [
      "/usr/local/lib/python3.7/dist-packages/sklearn/svm/base.py:241: ConvergenceWarning: Solver terminated early (max_iter=3000).  Consider pre-processing your data with StandardScaler or MinMaxScaler.\n",
      "  % self.max_iter, ConvergenceWarning)\n"
     ]
    },
    {
     "name": "stdout",
     "output_type": "stream",
     "text": [
      "[CV] ............... C=2000, kernel=poly, max_iter=3000, total=   0.3s\n",
      "[CV] C=2000, kernel=poly, max_iter=3000 ..............................\n"
     ]
    },
    {
     "name": "stderr",
     "output_type": "stream",
     "text": [
      "/usr/local/lib/python3.7/dist-packages/sklearn/svm/base.py:241: ConvergenceWarning: Solver terminated early (max_iter=3000).  Consider pre-processing your data with StandardScaler or MinMaxScaler.\n",
      "  % self.max_iter, ConvergenceWarning)\n"
     ]
    },
    {
     "name": "stdout",
     "output_type": "stream",
     "text": [
      "[CV] ............... C=2000, kernel=poly, max_iter=3000, total=   0.3s\n",
      "[CV] C=2000, kernel=poly, max_iter=3000 ..............................\n"
     ]
    },
    {
     "name": "stderr",
     "output_type": "stream",
     "text": [
      "/usr/local/lib/python3.7/dist-packages/sklearn/svm/base.py:241: ConvergenceWarning: Solver terminated early (max_iter=3000).  Consider pre-processing your data with StandardScaler or MinMaxScaler.\n",
      "  % self.max_iter, ConvergenceWarning)\n"
     ]
    },
    {
     "name": "stdout",
     "output_type": "stream",
     "text": [
      "[CV] ............... C=2000, kernel=poly, max_iter=3000, total=   0.3s\n",
      "[CV] C=2000, kernel=poly, max_iter=3000 ..............................\n"
     ]
    },
    {
     "name": "stderr",
     "output_type": "stream",
     "text": [
      "/usr/local/lib/python3.7/dist-packages/sklearn/svm/base.py:241: ConvergenceWarning: Solver terminated early (max_iter=3000).  Consider pre-processing your data with StandardScaler or MinMaxScaler.\n",
      "  % self.max_iter, ConvergenceWarning)\n"
     ]
    },
    {
     "name": "stdout",
     "output_type": "stream",
     "text": [
      "[CV] ............... C=2000, kernel=poly, max_iter=3000, total=   0.3s\n",
      "[CV] C=2000, kernel=poly, max_iter=3000 ..............................\n"
     ]
    },
    {
     "name": "stderr",
     "output_type": "stream",
     "text": [
      "/usr/local/lib/python3.7/dist-packages/sklearn/svm/base.py:241: ConvergenceWarning: Solver terminated early (max_iter=3000).  Consider pre-processing your data with StandardScaler or MinMaxScaler.\n",
      "  % self.max_iter, ConvergenceWarning)\n"
     ]
    },
    {
     "name": "stdout",
     "output_type": "stream",
     "text": [
      "[CV] ............... C=2000, kernel=poly, max_iter=3000, total=   0.3s\n",
      "[CV] C=2000, kernel=poly, max_iter=4000 ..............................\n"
     ]
    },
    {
     "name": "stderr",
     "output_type": "stream",
     "text": [
      "/usr/local/lib/python3.7/dist-packages/sklearn/svm/base.py:241: ConvergenceWarning: Solver terminated early (max_iter=4000).  Consider pre-processing your data with StandardScaler or MinMaxScaler.\n",
      "  % self.max_iter, ConvergenceWarning)\n"
     ]
    },
    {
     "name": "stdout",
     "output_type": "stream",
     "text": [
      "[CV] ............... C=2000, kernel=poly, max_iter=4000, total=   0.4s\n",
      "[CV] C=2000, kernel=poly, max_iter=4000 ..............................\n"
     ]
    },
    {
     "name": "stderr",
     "output_type": "stream",
     "text": [
      "/usr/local/lib/python3.7/dist-packages/sklearn/svm/base.py:241: ConvergenceWarning: Solver terminated early (max_iter=4000).  Consider pre-processing your data with StandardScaler or MinMaxScaler.\n",
      "  % self.max_iter, ConvergenceWarning)\n"
     ]
    },
    {
     "name": "stdout",
     "output_type": "stream",
     "text": [
      "[CV] ............... C=2000, kernel=poly, max_iter=4000, total=   0.4s\n",
      "[CV] C=2000, kernel=poly, max_iter=4000 ..............................\n"
     ]
    },
    {
     "name": "stderr",
     "output_type": "stream",
     "text": [
      "/usr/local/lib/python3.7/dist-packages/sklearn/svm/base.py:241: ConvergenceWarning: Solver terminated early (max_iter=4000).  Consider pre-processing your data with StandardScaler or MinMaxScaler.\n",
      "  % self.max_iter, ConvergenceWarning)\n"
     ]
    },
    {
     "name": "stdout",
     "output_type": "stream",
     "text": [
      "[CV] ............... C=2000, kernel=poly, max_iter=4000, total=   0.4s\n",
      "[CV] C=2000, kernel=poly, max_iter=4000 ..............................\n"
     ]
    },
    {
     "name": "stderr",
     "output_type": "stream",
     "text": [
      "/usr/local/lib/python3.7/dist-packages/sklearn/svm/base.py:241: ConvergenceWarning: Solver terminated early (max_iter=4000).  Consider pre-processing your data with StandardScaler or MinMaxScaler.\n",
      "  % self.max_iter, ConvergenceWarning)\n"
     ]
    },
    {
     "name": "stdout",
     "output_type": "stream",
     "text": [
      "[CV] ............... C=2000, kernel=poly, max_iter=4000, total=   0.3s\n",
      "[CV] C=2000, kernel=poly, max_iter=4000 ..............................\n"
     ]
    },
    {
     "name": "stderr",
     "output_type": "stream",
     "text": [
      "/usr/local/lib/python3.7/dist-packages/sklearn/svm/base.py:241: ConvergenceWarning: Solver terminated early (max_iter=4000).  Consider pre-processing your data with StandardScaler or MinMaxScaler.\n",
      "  % self.max_iter, ConvergenceWarning)\n"
     ]
    },
    {
     "name": "stdout",
     "output_type": "stream",
     "text": [
      "[CV] ............... C=2000, kernel=poly, max_iter=4000, total=   0.4s\n",
      "[CV] C=2000, kernel=poly, max_iter=5000 ..............................\n"
     ]
    },
    {
     "name": "stderr",
     "output_type": "stream",
     "text": [
      "/usr/local/lib/python3.7/dist-packages/sklearn/svm/base.py:241: ConvergenceWarning: Solver terminated early (max_iter=5000).  Consider pre-processing your data with StandardScaler or MinMaxScaler.\n",
      "  % self.max_iter, ConvergenceWarning)\n"
     ]
    },
    {
     "name": "stdout",
     "output_type": "stream",
     "text": [
      "[CV] ............... C=2000, kernel=poly, max_iter=5000, total=   0.3s\n",
      "[CV] C=2000, kernel=poly, max_iter=5000 ..............................\n"
     ]
    },
    {
     "name": "stderr",
     "output_type": "stream",
     "text": [
      "/usr/local/lib/python3.7/dist-packages/sklearn/svm/base.py:241: ConvergenceWarning: Solver terminated early (max_iter=5000).  Consider pre-processing your data with StandardScaler or MinMaxScaler.\n",
      "  % self.max_iter, ConvergenceWarning)\n"
     ]
    },
    {
     "name": "stdout",
     "output_type": "stream",
     "text": [
      "[CV] ............... C=2000, kernel=poly, max_iter=5000, total=   0.3s\n",
      "[CV] C=2000, kernel=poly, max_iter=5000 ..............................\n"
     ]
    },
    {
     "name": "stderr",
     "output_type": "stream",
     "text": [
      "/usr/local/lib/python3.7/dist-packages/sklearn/svm/base.py:241: ConvergenceWarning: Solver terminated early (max_iter=5000).  Consider pre-processing your data with StandardScaler or MinMaxScaler.\n",
      "  % self.max_iter, ConvergenceWarning)\n"
     ]
    },
    {
     "name": "stdout",
     "output_type": "stream",
     "text": [
      "[CV] ............... C=2000, kernel=poly, max_iter=5000, total=   0.4s\n",
      "[CV] C=2000, kernel=poly, max_iter=5000 ..............................\n"
     ]
    },
    {
     "name": "stderr",
     "output_type": "stream",
     "text": [
      "/usr/local/lib/python3.7/dist-packages/sklearn/svm/base.py:241: ConvergenceWarning: Solver terminated early (max_iter=5000).  Consider pre-processing your data with StandardScaler or MinMaxScaler.\n",
      "  % self.max_iter, ConvergenceWarning)\n"
     ]
    },
    {
     "name": "stdout",
     "output_type": "stream",
     "text": [
      "[CV] ............... C=2000, kernel=poly, max_iter=5000, total=   0.4s\n",
      "[CV] C=2000, kernel=poly, max_iter=5000 ..............................\n"
     ]
    },
    {
     "name": "stderr",
     "output_type": "stream",
     "text": [
      "/usr/local/lib/python3.7/dist-packages/sklearn/svm/base.py:241: ConvergenceWarning: Solver terminated early (max_iter=5000).  Consider pre-processing your data with StandardScaler or MinMaxScaler.\n",
      "  % self.max_iter, ConvergenceWarning)\n",
      "[Parallel(n_jobs=1)]: Done 300 out of 300 | elapsed:  2.2min finished\n",
      "/usr/local/lib/python3.7/dist-packages/sklearn/model_selection/_search.py:814: DeprecationWarning: The default of the `iid` parameter will change from True to False in version 0.22 and will be removed in 0.24. This will change numeric results when test-set sizes are unequal.\n",
      "  DeprecationWarning)\n"
     ]
    },
    {
     "name": "stdout",
     "output_type": "stream",
     "text": [
      "[CV] ............... C=2000, kernel=poly, max_iter=5000, total=   0.3s\n"
     ]
    },
    {
     "name": "stderr",
     "output_type": "stream",
     "text": [
      "/usr/local/lib/python3.7/dist-packages/sklearn/svm/base.py:241: ConvergenceWarning: Solver terminated early (max_iter=1000).  Consider pre-processing your data with StandardScaler or MinMaxScaler.\n",
      "  % self.max_iter, ConvergenceWarning)\n"
     ]
    },
    {
     "data": {
      "text/plain": [
       "GridSearchCV(cv=5, error_score='raise-deprecating',\n",
       "             estimator=SVC(C=1.0, cache_size=200, class_weight=None, coef0=0.0,\n",
       "                           decision_function_shape='ovo', degree=3,\n",
       "                           gamma='scale', kernel='rbf', max_iter=-1,\n",
       "                           probability=False, random_state=None, shrinking=True,\n",
       "                           tol=0.001, verbose=False),\n",
       "             iid='warn', n_jobs=None,\n",
       "             param_grid={'C': [1, 10, 10, 100, 1000, 2000],\n",
       "                         'kernel': ['rbf', 'poly'],\n",
       "                         'max_iter': [1000, 2000, 3000, 4000, 5000]},\n",
       "             pre_dispatch='2*n_jobs', refit=True, return_train_score=False,\n",
       "             scoring=None, verbose=2)"
      ]
     },
     "execution_count": 5,
     "metadata": {},
     "output_type": "execute_result"
    }
   ],
   "source": [
    "parameters = {\n",
    "    \"kernel\": ['rbf','poly'],\n",
    "    \"C\": [1,10,10,100,1000,2000],\n",
    "    \"max_iter\": [1000,2000,3000,4000,5000]   \n",
    "}\n",
    "\n",
    "grid = GridSearchCV(SVC(gamma='scale', decision_function_shape='ovo'), parameters, cv=5, verbose=2)\n",
    "grid.fit(scaled_x, Y_all)"
   ]
  },
  {
   "cell_type": "markdown",
   "metadata": {},
   "source": [
    "# Identifying the Best HyperParameter Configuration"
   ]
  },
  {
   "cell_type": "code",
   "execution_count": 6,
   "metadata": {},
   "outputs": [
    {
     "data": {
      "text/plain": [
       "{'C': 1000, 'kernel': 'rbf', 'max_iter': 1000}"
      ]
     },
     "execution_count": 6,
     "metadata": {},
     "output_type": "execute_result"
    }
   ],
   "source": [
    "grid.best_params_"
   ]
  },
  {
   "cell_type": "markdown",
   "metadata": {},
   "source": [
    "# Creating the Train and Test Split"
   ]
  },
  {
   "cell_type": "code",
   "execution_count": 7,
   "metadata": {},
   "outputs": [
    {
     "name": "stdout",
     "output_type": "stream",
     "text": [
      "Training samples : (290, 2784) Testing Samples : (125, 2784)\n"
     ]
    }
   ],
   "source": [
    "X_train, X_test, y_train, y_test = train_test_split(scaled_x, Y_all, test_size=0.3)\n",
    "print(\"Training samples : {} Testing Samples : {}\".format(X_train.shape, X_test.shape))"
   ]
  },
  {
   "cell_type": "markdown",
   "metadata": {},
   "source": [
    "# Training the Model"
   ]
  },
  {
   "cell_type": "code",
   "execution_count": 9,
   "metadata": {},
   "outputs": [
    {
     "data": {
      "text/plain": [
       "SVC(C=1000, cache_size=200, class_weight=None, coef0=0.0,\n",
       "    decision_function_shape='ovo', degree=3, gamma='scale', kernel='rbf',\n",
       "    max_iter=1000, probability=False, random_state=None, shrinking=True,\n",
       "    tol=0.001, verbose=False)"
      ]
     },
     "execution_count": 9,
     "metadata": {},
     "output_type": "execute_result"
    }
   ],
   "source": [
    "clf = SVC(kernel='rbf', C=1000, max_iter=1000, gamma='scale', decision_function_shape='ovo')\n",
    "clf.fit(X_train,y_train)"
   ]
  },
  {
   "cell_type": "markdown",
   "metadata": {},
   "source": [
    "# Evaluating the Model"
   ]
  },
  {
   "cell_type": "code",
   "execution_count": 10,
   "metadata": {},
   "outputs": [],
   "source": [
    "y_pred = clf.predict(X_test)"
   ]
  },
  {
   "cell_type": "code",
   "execution_count": 11,
   "metadata": {},
   "outputs": [
    {
     "name": "stdout",
     "output_type": "stream",
     "text": [
      "              precision    recall  f1-score   support\n",
      "\n",
      "           0       0.95      1.00      0.98        21\n",
      "           1       1.00      0.95      0.97        19\n",
      "           2       0.67      0.82      0.74        17\n",
      "           3       0.79      0.65      0.71        23\n",
      "           4       0.90      0.86      0.88        22\n",
      "           5       0.96      1.00      0.98        23\n",
      "\n",
      "    accuracy                           0.88       125\n",
      "   macro avg       0.88      0.88      0.88       125\n",
      "weighted avg       0.88      0.88      0.88       125\n",
      "\n",
      "[[21  0  0  0  0  0]\n",
      " [ 0 18  0  1  0  0]\n",
      " [ 0  0 14  3  0  0]\n",
      " [ 1  0  4 15  2  1]\n",
      " [ 0  0  3  0 19  0]\n",
      " [ 0  0  0  0  0 23]]\n"
     ]
    }
   ],
   "source": [
    "print(classification_report(y_test, y_pred))\n",
    "print(confusion_matrix(y_test,y_pred))"
   ]
  },
  {
   "cell_type": "markdown",
   "metadata": {},
   "source": [
    "# Using Cross Validation to Evaluate the Model"
   ]
  },
  {
   "cell_type": "code",
   "execution_count": 12,
   "metadata": {},
   "outputs": [
    {
     "name": "stderr",
     "output_type": "stream",
     "text": [
      "/usr/local/lib/python3.7/dist-packages/sklearn/svm/base.py:241: ConvergenceWarning: Solver terminated early (max_iter=1000).  Consider pre-processing your data with StandardScaler or MinMaxScaler.\n",
      "  % self.max_iter, ConvergenceWarning)\n",
      "/usr/local/lib/python3.7/dist-packages/sklearn/svm/base.py:241: ConvergenceWarning: Solver terminated early (max_iter=1000).  Consider pre-processing your data with StandardScaler or MinMaxScaler.\n",
      "  % self.max_iter, ConvergenceWarning)\n",
      "/usr/local/lib/python3.7/dist-packages/sklearn/svm/base.py:241: ConvergenceWarning: Solver terminated early (max_iter=1000).  Consider pre-processing your data with StandardScaler or MinMaxScaler.\n",
      "  % self.max_iter, ConvergenceWarning)\n",
      "/usr/local/lib/python3.7/dist-packages/sklearn/svm/base.py:241: ConvergenceWarning: Solver terminated early (max_iter=1000).  Consider pre-processing your data with StandardScaler or MinMaxScaler.\n",
      "  % self.max_iter, ConvergenceWarning)\n",
      "/usr/local/lib/python3.7/dist-packages/sklearn/svm/base.py:241: ConvergenceWarning: Solver terminated early (max_iter=1000).  Consider pre-processing your data with StandardScaler or MinMaxScaler.\n",
      "  % self.max_iter, ConvergenceWarning)\n",
      "/usr/local/lib/python3.7/dist-packages/sklearn/svm/base.py:241: ConvergenceWarning: Solver terminated early (max_iter=1000).  Consider pre-processing your data with StandardScaler or MinMaxScaler.\n",
      "  % self.max_iter, ConvergenceWarning)\n",
      "/usr/local/lib/python3.7/dist-packages/sklearn/svm/base.py:241: ConvergenceWarning: Solver terminated early (max_iter=1000).  Consider pre-processing your data with StandardScaler or MinMaxScaler.\n",
      "  % self.max_iter, ConvergenceWarning)\n",
      "/usr/local/lib/python3.7/dist-packages/sklearn/svm/base.py:241: ConvergenceWarning: Solver terminated early (max_iter=1000).  Consider pre-processing your data with StandardScaler or MinMaxScaler.\n",
      "  % self.max_iter, ConvergenceWarning)\n",
      "/usr/local/lib/python3.7/dist-packages/sklearn/svm/base.py:241: ConvergenceWarning: Solver terminated early (max_iter=1000).  Consider pre-processing your data with StandardScaler or MinMaxScaler.\n",
      "  % self.max_iter, ConvergenceWarning)\n",
      "/usr/local/lib/python3.7/dist-packages/sklearn/svm/base.py:241: ConvergenceWarning: Solver terminated early (max_iter=1000).  Consider pre-processing your data with StandardScaler or MinMaxScaler.\n",
      "  % self.max_iter, ConvergenceWarning)\n"
     ]
    }
   ],
   "source": [
    "y_all_pred = cross_val_predict(clf, scaled_x, Y_all, cv=10)"
   ]
  },
  {
   "cell_type": "code",
   "execution_count": 13,
   "metadata": {},
   "outputs": [
    {
     "name": "stdout",
     "output_type": "stream",
     "text": [
      "              precision    recall  f1-score   support\n",
      "\n",
      "           0       0.92      0.94      0.93        71\n",
      "           1       1.00      0.99      0.99        68\n",
      "           2       0.82      0.89      0.85        65\n",
      "           3       0.79      0.83      0.81        70\n",
      "           4       0.94      0.83      0.88        70\n",
      "           5       0.96      0.93      0.94        71\n",
      "\n",
      "    accuracy                           0.90       415\n",
      "   macro avg       0.90      0.90      0.90       415\n",
      "weighted avg       0.90      0.90      0.90       415\n",
      "\n",
      "[[67  0  1  2  0  1]\n",
      " [ 0 67  0  1  0  0]\n",
      " [ 0  0 58  6  1  0]\n",
      " [ 2  0  7 58  2  1]\n",
      " [ 2  0  5  4 58  1]\n",
      " [ 2  0  0  2  1 66]]\n"
     ]
    }
   ],
   "source": [
    "print(classification_report(Y_all, y_all_pred))\n",
    "print(confusion_matrix(Y_all,y_all_pred))"
   ]
  },
  {
   "cell_type": "markdown",
   "metadata": {},
   "source": [
    "# Saving the Model"
   ]
  },
  {
   "cell_type": "code",
   "execution_count": 14,
   "metadata": {},
   "outputs": [],
   "source": [
    "f = open('svm_ovo_model_rbf.pkl', 'wb')\n",
    "pickle.dump(clf, f)\n",
    "f.close()"
   ]
  }
 ],
 "metadata": {
  "kernelspec": {
   "display_name": "Python 3",
   "language": "python",
   "name": "python3"
  },
  "language_info": {
   "codemirror_mode": {
    "name": "ipython",
    "version": 3
   },
   "file_extension": ".py",
   "mimetype": "text/x-python",
   "name": "python",
   "nbconvert_exporter": "python",
   "pygments_lexer": "ipython3",
   "version": "3.7.3"
  }
 },
 "nbformat": 4,
 "nbformat_minor": 2
}
